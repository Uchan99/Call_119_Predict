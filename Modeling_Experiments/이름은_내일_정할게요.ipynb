{
  "nbformat": 4,
  "nbformat_minor": 0,
  "metadata": {
    "colab": {
      "provenance": [],
      "gpuType": "T4"
    },
    "kernelspec": {
      "name": "python3",
      "display_name": "Python 3"
    },
    "language_info": {
      "name": "python"
    },
    "accelerator": "GPU"
  },
  "cells": [
    {
      "cell_type": "code",
      "execution_count": null,
      "metadata": {
        "colab": {
          "base_uri": "https://localhost:8080/",
          "height": 964
        },
        "id": "rEGXH4r5fW-T",
        "outputId": "c94cf858-13a0-4cdd-f2d1-441f6ddce090"
      },
      "outputs": [
        {
          "output_type": "stream",
          "name": "stdout",
          "text": [
            "Collecting scikit-learn==1.3.2\n",
            "  Downloading scikit_learn-1.3.2-cp311-cp311-manylinux_2_17_x86_64.manylinux2014_x86_64.whl.metadata (11 kB)\n",
            "Collecting xgboost==1.7.6\n",
            "  Downloading xgboost-1.7.6-py3-none-manylinux2014_x86_64.whl.metadata (1.9 kB)\n",
            "Collecting koreanize_matplotlib\n",
            "  Downloading koreanize_matplotlib-0.1.1-py3-none-any.whl.metadata (992 bytes)\n",
            "Collecting numpy<2.0,>=1.17.3 (from scikit-learn==1.3.2)\n",
            "  Downloading numpy-1.26.4-cp311-cp311-manylinux_2_17_x86_64.manylinux2014_x86_64.whl.metadata (61 kB)\n",
            "\u001b[2K     \u001b[90m━━━━━━━━━━━━━━━━━━━━━━━━━━━━━━━━━━━━━━━\u001b[0m \u001b[32m61.0/61.0 kB\u001b[0m \u001b[31m812.7 kB/s\u001b[0m eta \u001b[36m0:00:00\u001b[0m\n",
            "\u001b[?25hRequirement already satisfied: scipy>=1.5.0 in /usr/local/lib/python3.11/dist-packages (from scikit-learn==1.3.2) (1.15.3)\n",
            "Requirement already satisfied: joblib>=1.1.1 in /usr/local/lib/python3.11/dist-packages (from scikit-learn==1.3.2) (1.5.1)\n",
            "Requirement already satisfied: threadpoolctl>=2.0.0 in /usr/local/lib/python3.11/dist-packages (from scikit-learn==1.3.2) (3.6.0)\n",
            "Requirement already satisfied: matplotlib in /usr/local/lib/python3.11/dist-packages (from koreanize_matplotlib) (3.10.0)\n",
            "Requirement already satisfied: contourpy>=1.0.1 in /usr/local/lib/python3.11/dist-packages (from matplotlib->koreanize_matplotlib) (1.3.2)\n",
            "Requirement already satisfied: cycler>=0.10 in /usr/local/lib/python3.11/dist-packages (from matplotlib->koreanize_matplotlib) (0.12.1)\n",
            "Requirement already satisfied: fonttools>=4.22.0 in /usr/local/lib/python3.11/dist-packages (from matplotlib->koreanize_matplotlib) (4.58.4)\n",
            "Requirement already satisfied: kiwisolver>=1.3.1 in /usr/local/lib/python3.11/dist-packages (from matplotlib->koreanize_matplotlib) (1.4.8)\n",
            "Requirement already satisfied: packaging>=20.0 in /usr/local/lib/python3.11/dist-packages (from matplotlib->koreanize_matplotlib) (24.2)\n",
            "Requirement already satisfied: pillow>=8 in /usr/local/lib/python3.11/dist-packages (from matplotlib->koreanize_matplotlib) (11.2.1)\n",
            "Requirement already satisfied: pyparsing>=2.3.1 in /usr/local/lib/python3.11/dist-packages (from matplotlib->koreanize_matplotlib) (3.2.3)\n",
            "Requirement already satisfied: python-dateutil>=2.7 in /usr/local/lib/python3.11/dist-packages (from matplotlib->koreanize_matplotlib) (2.9.0.post0)\n",
            "Requirement already satisfied: six>=1.5 in /usr/local/lib/python3.11/dist-packages (from python-dateutil>=2.7->matplotlib->koreanize_matplotlib) (1.17.0)\n",
            "Downloading scikit_learn-1.3.2-cp311-cp311-manylinux_2_17_x86_64.manylinux2014_x86_64.whl (10.9 MB)\n",
            "\u001b[2K   \u001b[90m━━━━━━━━━━━━━━━━━━━━━━━━━━━━━━━━━━━━━━━━\u001b[0m \u001b[32m10.9/10.9 MB\u001b[0m \u001b[31m64.1 MB/s\u001b[0m eta \u001b[36m0:00:00\u001b[0m\n",
            "\u001b[?25hDownloading xgboost-1.7.6-py3-none-manylinux2014_x86_64.whl (200.3 MB)\n",
            "\u001b[2K   \u001b[90m━━━━━━━━━━━━━━━━━━━━━━━━━━━━━━━━━━━━━━━━\u001b[0m \u001b[32m200.3/200.3 MB\u001b[0m \u001b[31m6.7 MB/s\u001b[0m eta \u001b[36m0:00:00\u001b[0m\n",
            "\u001b[?25hDownloading koreanize_matplotlib-0.1.1-py3-none-any.whl (7.9 MB)\n",
            "\u001b[2K   \u001b[90m━━━━━━━━━━━━━━━━━━━━━━━━━━━━━━━━━━━━━━━━\u001b[0m \u001b[32m7.9/7.9 MB\u001b[0m \u001b[31m54.0 MB/s\u001b[0m eta \u001b[36m0:00:00\u001b[0m\n",
            "\u001b[?25hDownloading numpy-1.26.4-cp311-cp311-manylinux_2_17_x86_64.manylinux2014_x86_64.whl (18.3 MB)\n",
            "\u001b[2K   \u001b[90m━━━━━━━━━━━━━━━━━━━━━━━━━━━━━━━━━━━━━━━━\u001b[0m \u001b[32m18.3/18.3 MB\u001b[0m \u001b[31m50.5 MB/s\u001b[0m eta \u001b[36m0:00:00\u001b[0m\n",
            "\u001b[?25hInstalling collected packages: numpy, xgboost, scikit-learn, koreanize_matplotlib\n",
            "  Attempting uninstall: numpy\n",
            "    Found existing installation: numpy 2.0.2\n",
            "    Uninstalling numpy-2.0.2:\n",
            "      Successfully uninstalled numpy-2.0.2\n",
            "  Attempting uninstall: xgboost\n",
            "    Found existing installation: xgboost 2.1.4\n",
            "    Uninstalling xgboost-2.1.4:\n",
            "      Successfully uninstalled xgboost-2.1.4\n",
            "  Attempting uninstall: scikit-learn\n",
            "    Found existing installation: scikit-learn 1.6.1\n",
            "    Uninstalling scikit-learn-1.6.1:\n",
            "      Successfully uninstalled scikit-learn-1.6.1\n",
            "\u001b[31mERROR: pip's dependency resolver does not currently take into account all the packages that are installed. This behaviour is the source of the following dependency conflicts.\n",
            "thinc 8.3.6 requires numpy<3.0.0,>=2.0.0, but you have numpy 1.26.4 which is incompatible.\u001b[0m\u001b[31m\n",
            "\u001b[0mSuccessfully installed koreanize_matplotlib-0.1.1 numpy-1.26.4 scikit-learn-1.3.2 xgboost-1.7.6\n"
          ]
        },
        {
          "output_type": "display_data",
          "data": {
            "application/vnd.colab-display-data+json": {
              "pip_warning": {
                "packages": [
                  "numpy"
                ]
              },
              "id": "cbf0e02a8e6448ff8e141c686b0f0f66"
            }
          },
          "metadata": {}
        }
      ],
      "source": [
        "# 1. 패키지 설치\n",
        "!pip install -U scikit-learn==1.3.2 xgboost==1.7.6 koreanize_matplotlib"
      ]
    },
    {
      "cell_type": "code",
      "source": [
        "# 2. Google Drive 연동\n",
        "from google.colab import drive\n",
        "drive.mount('/content/drive')"
      ],
      "metadata": {
        "colab": {
          "base_uri": "https://localhost:8080/"
        },
        "id": "K57ZjaNAfbbQ",
        "outputId": "77894b81-8f88-425d-fedb-145940d95e2f"
      },
      "execution_count": null,
      "outputs": [
        {
          "output_type": "stream",
          "name": "stdout",
          "text": [
            "Mounted at /content/drive\n"
          ]
        }
      ]
    },
    {
      "cell_type": "code",
      "source": [
        "import pandas as pd\n",
        "import numpy as np\n",
        "from sklearn.model_selection import train_test_split\n",
        "from sklearn.preprocessing import LabelEncoder\n",
        "from sklearn.metrics import mean_squared_error\n",
        "from xgboost import XGBRegressor\n",
        "from tqdm import tqdm"
      ],
      "metadata": {
        "id": "sPlQh0mAfsRG"
      },
      "execution_count": null,
      "outputs": []
    },
    {
      "cell_type": "code",
      "source": [
        "train_df = pd.read_csv('/content/drive/MyDrive/Epoch 공모전/2020_2023_최종데이터.csv')\n",
        "valid_df = pd.read_csv('/content/drive/MyDrive/Epoch 공모전/2024_최종데이터.csv')\n",
        "\n",
        "# --- 2. 전처리 ---\n",
        "train_df.drop(columns=['tm_dt'], inplace=True, errors='ignore')\n",
        "valid_df.drop(columns=['tm_dt'], inplace=True, errors='ignore')\n",
        "train_df.sort_values(by='tm', inplace=True)\n",
        "\n",
        "# --- 3. 피처 엔지니어링 ---\n",
        "def make_features(df):\n",
        "    df['year'] = df['tm'] // 10000\n",
        "    df['month'] = (df['tm'] % 10000) // 100\n",
        "    df['day'] = df['tm'] % 100\n",
        "    df['weekday'] = pd.to_datetime(df['tm'], format='%Y%m%d').dt.weekday\n",
        "    df['day_of_year'] = pd.to_datetime(df['tm'], format='%Y%m%d').dt.dayofyear\n",
        "    df['is_weekend'] = df['weekday'].isin([5, 6]).astype(int)\n",
        "    df['is_before_holiday'] = df['공휴일'].shift(-1, fill_value=0)\n",
        "    df['is_after_holiday'] = df['공휴일'].shift(1, fill_value=0)\n",
        "    df['month_sin'] = np.sin(2 * np.pi * df['month'] / 12)\n",
        "    df['month_cos'] = np.cos(2 * np.pi * df['month'] / 12)\n",
        "    df['is_rain'] = (df['rn_day'] > 0).astype(int)\n",
        "    df['ta_range'] = df['ta_max'] - df['ta_min']\n",
        "    df['ws_diff'] = df['ws_max'] - df['ws_ins_max']\n",
        "    df.drop(columns=['month'], inplace=True)\n",
        "    return df\n",
        "\n",
        "train_df = make_features(train_df)\n",
        "\n",
        "# --- 4. Lag & Rolling ---\n",
        "train_df['call_count_lag_1'] = train_df.groupby('address_gu')['call_count'].shift(1)\n",
        "train_df['call_count_lag_7'] = train_df.groupby('address_gu')['call_count'].shift(7)\n",
        "train_df['call_count_rolling_mean_7'] = train_df.groupby('address_gu')['call_count'].shift(1).rolling(7, min_periods=1).mean()\n",
        "train_df['call_count_rolling_std_7'] = train_df.groupby('address_gu')['call_count'].shift(1).rolling(7, min_periods=1).std()\n",
        "train_df.fillna(0, inplace=True)\n",
        "\n",
        "# --- 5. 타겟 로그 변환 ---\n",
        "y = np.log1p(train_df['call_count'])\n",
        "X = train_df.drop(columns=['call_count'])\n",
        "\n",
        "# --- 6. 타겟 인코딩 ---\n",
        "gu_mean_map = y.groupby(train_df['address_gu']).mean()\n",
        "sub_mean_map = y.groupby(train_df['sub_address']).mean()\n",
        "overall_mean = y.mean()\n",
        "\n",
        "X['gu_mean'] = train_df['address_gu'].map(gu_mean_map)\n",
        "X['sub_mean'] = train_df['sub_address'].map(sub_mean_map)\n",
        "X.fillna(overall_mean, inplace=True)\n",
        "\n",
        "# --- 7. 범주형 인코딩 ---\n",
        "encoder = LabelEncoder()\n",
        "X['address_city'] = encoder.fit_transform(X['address_city'])\n",
        "\n",
        "# --- 8. Train/Val 분리 (인덱스 리셋 포함) ---\n",
        "X_train, X_val, y_train, y_val = train_test_split(X, y, test_size=0.2, shuffle=False)\n",
        "gu_train = train_df['address_gu'].iloc[X_train.index].reset_index(drop=True)\n",
        "gu_val = train_df['address_gu'].iloc[X_val.index].reset_index(drop=True)\n",
        "X_train = X_train.reset_index(drop=True)\n",
        "X_val = X_val.reset_index(drop=True)\n",
        "y_train = y_train.reset_index(drop=True)\n",
        "y_val = y_val.reset_index(drop=True)\n",
        "\n",
        "# --- 9. 모델 학습 (구별) ---\n",
        "X_train_use = X_train.drop(columns=['tm', 'address_gu', 'sub_address'])\n",
        "X_val_use = X_val.drop(columns=['tm', 'address_gu', 'sub_address'])\n",
        "\n",
        "for gu in tqdm(gu_train.unique(), desc=\"구별 모델 학습\"):\n",
        "    idx = (gu_val == gu)\n",
        "    if idx.sum() < 10:\n",
        "        continue\n",
        "    model = XGBRegressor(\n",
        "        n_estimators=1000,\n",
        "        learning_rate=0.03,\n",
        "        max_depth=5,\n",
        "        min_child_weight=3,\n",
        "        subsample=0.8,\n",
        "        colsample_bytree=0.8,\n",
        "        tree_method='hist',\n",
        "        early_stopping_rounds=50,\n",
        "        random_state=42\n",
        "    )\n",
        "    model.fit(X_train_use, y_train, eval_set=[(X_val_use[idx], y_val[idx])], verbose=False)\n",
        "    pred = model.predict(X_val_use[idx])\n",
        "    rmse = np.sqrt(mean_squared_error(np.expm1(y_val[idx]), np.expm1(pred)))\n",
        "    gu_models[gu] = model\n",
        "    gu_scores[gu] = rmse\n",
        "    print(f\"[{gu}] RMSE: {rmse:.4f}\")\n",
        "\n",
        "# --- 전체 검증 데이터 RMSE 계산 ---\n",
        "all_preds = []\n",
        "all_targets = []\n",
        "\n",
        "for gu in gu_models:\n",
        "    idx = (gu_val == gu)\n",
        "    if idx.sum() == 0:\n",
        "        continue\n",
        "    preds = gu_models[gu].predict(X_val_use[idx])\n",
        "    all_preds.extend(np.expm1(preds))\n",
        "    all_targets.extend(np.expm1(y_val[idx]))\n",
        "\n",
        "total_rmse = np.sqrt(mean_squared_error(all_targets, all_preds))\n",
        "print(f\"\\n📊 전체 검증 데이터 RMSE (역변환 기준): {total_rmse:.4f}\")\n",
        "\n",
        "# --- 10. 통합 예측을 위한 2024 데이터 준비 ---\n",
        "combined_df = pd.concat([train_df, valid_df], ignore_index=True)\n",
        "combined_df = make_features(combined_df)\n",
        "combined_df.sort_values(by=['address_gu', 'tm'], inplace=True)\n",
        "combined_df['call_count_lag_1'] = combined_df.groupby('address_gu')['call_count'].shift(1)\n",
        "combined_df['call_count_lag_7'] = combined_df.groupby('address_gu')['call_count'].shift(7)\n",
        "combined_df['call_count_rolling_mean_7'] = combined_df.groupby('address_gu')['call_count'].shift(1).rolling(7, min_periods=1).mean()\n",
        "combined_df['call_count_rolling_std_7'] = combined_df.groupby('address_gu')['call_count'].shift(1).rolling(7, min_periods=1).std()\n",
        "combined_df.fillna(0, inplace=True)\n",
        "\n",
        "pred_df = combined_df[combined_df['tm'] >= 20240101].copy()\n",
        "\n",
        "if 'Unknown' not in encoder.classes_:\n",
        "    encoder.classes_ = np.append(encoder.classes_, 'Unknown')\n",
        "pred_df['address_city'] = pred_df['address_city'].apply(lambda x: x if x in encoder.classes_ else 'Unknown')\n",
        "pred_df['address_city'] = encoder.transform(pred_df['address_city'])\n",
        "pred_df['gu_mean'] = pred_df['address_gu'].map(gu_mean_map).fillna(overall_mean)\n",
        "pred_df['sub_mean'] = pred_df['sub_address'].map(sub_mean_map).fillna(overall_mean)\n",
        "\n",
        "X_pred = pred_df[X_train_use.columns].astype('float32')\n",
        "\n",
        "# --- 11. 예측 ---\n",
        "result_list = []\n",
        "for gu in tqdm(pred_df['address_gu'].unique(), desc=\"2024 예측\"):\n",
        "    if gu not in gu_models:\n",
        "        continue\n",
        "    idx = (pred_df['address_gu'] == gu)\n",
        "    preds = np.expm1(gu_models[gu].predict(X_pred[idx]))\n",
        "    preds = np.round(preds).astype(int)\n",
        "    preds[preds < 0] = 0\n",
        "    temp = pred_df[idx].copy()\n",
        "    temp['call_count'] = preds\n",
        "    result_list.append(temp[['tm', 'address_city', 'address_gu', 'sub_address', 'call_count']])\n",
        "\n",
        "# --- 12. 제출 파일 생성 ---\n",
        "submission_df = pd.concat(result_list)\n",
        "submission_df.rename(columns={'tm': 'TM'}, inplace=True)\n",
        "template = pd.read_csv('/content/drive/MyDrive/Epoch 공모전/test_call119.csv', encoding='euc-kr')\n",
        "template.drop(columns=['call_count'], inplace=True, errors='ignore')\n",
        "template['address_city'] = template['address_city'].apply(lambda x: x if x in encoder.classes_ else 'Unknown')\n",
        "template['address_city'] = encoder.transform(template['address_city'])\n",
        "\n",
        "submission = template.merge(submission_df, on=['TM', 'address_city', 'address_gu', 'sub_address'], how='left')\n",
        "submission['call_count'] = submission['call_count'].fillna(0).astype(int)\n",
        "submission.to_csv('/content/drive/MyDrive/Epoch 공모전/250028.csv', index=False, encoding='euc-kr')\n",
        "\n",
        "print(\"\\n✅ 제출 파일 저장 완료: 250028.csv\")"
      ],
      "metadata": {
        "colab": {
          "base_uri": "https://localhost:8080/"
        },
        "id": "0-p0jswggTC7",
        "outputId": "703ce4e3-cb71-4ddc-d34a-211df71585b2"
      },
      "execution_count": null,
      "outputs": [
        {
          "output_type": "stream",
          "name": "stderr",
          "text": [
            "구별 모델 학습:   6%|▋         | 1/16 [00:02<00:38,  2.56s/it]"
          ]
        },
        {
          "output_type": "stream",
          "name": "stdout",
          "text": [
            "[금정구] RMSE: 1.3669\n"
          ]
        },
        {
          "output_type": "stream",
          "name": "stderr",
          "text": [
            "\r구별 모델 학습:  12%|█▎        | 2/16 [00:06<00:44,  3.18s/it]"
          ]
        },
        {
          "output_type": "stream",
          "name": "stdout",
          "text": [
            "[남구] RMSE: 1.0796\n"
          ]
        },
        {
          "output_type": "stream",
          "name": "stderr",
          "text": [
            "\r구별 모델 학습:  19%|█▉        | 3/16 [00:10<00:46,  3.57s/it]"
          ]
        },
        {
          "output_type": "stream",
          "name": "stdout",
          "text": [
            "[사하구] RMSE: 0.9074\n"
          ]
        },
        {
          "output_type": "stream",
          "name": "stderr",
          "text": [
            "\r구별 모델 학습:  25%|██▌       | 4/16 [00:11<00:32,  2.71s/it]"
          ]
        },
        {
          "output_type": "stream",
          "name": "stdout",
          "text": [
            "[사상구] RMSE: 1.0336\n"
          ]
        },
        {
          "output_type": "stream",
          "name": "stderr",
          "text": [
            "\r구별 모델 학습:  31%|███▏      | 5/16 [00:13<00:27,  2.48s/it]"
          ]
        },
        {
          "output_type": "stream",
          "name": "stdout",
          "text": [
            "[연제구] RMSE: 1.0587\n"
          ]
        },
        {
          "output_type": "stream",
          "name": "stderr",
          "text": [
            "\r구별 모델 학습:  38%|███▊      | 6/16 [00:17<00:30,  3.08s/it]"
          ]
        },
        {
          "output_type": "stream",
          "name": "stdout",
          "text": [
            "[해운대구] RMSE: 1.1929\n"
          ]
        },
        {
          "output_type": "stream",
          "name": "stderr",
          "text": [
            "\r구별 모델 학습:  44%|████▍     | 7/16 [00:19<00:23,  2.60s/it]"
          ]
        },
        {
          "output_type": "stream",
          "name": "stdout",
          "text": [
            "[중구] RMSE: 1.1133\n"
          ]
        },
        {
          "output_type": "stream",
          "name": "stderr",
          "text": [
            "\r구별 모델 학습:  50%|█████     | 8/16 [00:23<00:24,  3.03s/it]"
          ]
        },
        {
          "output_type": "stream",
          "name": "stdout",
          "text": [
            "[영도구] RMSE: 1.1401\n"
          ]
        },
        {
          "output_type": "stream",
          "name": "stderr",
          "text": [
            "\r구별 모델 학습:  56%|█████▋    | 9/16 [00:27<00:22,  3.24s/it]"
          ]
        },
        {
          "output_type": "stream",
          "name": "stdout",
          "text": [
            "[수영구] RMSE: 1.0117\n"
          ]
        },
        {
          "output_type": "stream",
          "name": "stderr",
          "text": [
            "\r구별 모델 학습:  62%|██████▎   | 10/16 [00:29<00:17,  2.95s/it]"
          ]
        },
        {
          "output_type": "stream",
          "name": "stdout",
          "text": [
            "[서구] RMSE: 1.1240\n"
          ]
        },
        {
          "output_type": "stream",
          "name": "stderr",
          "text": [
            "\r구별 모델 학습:  69%|██████▉   | 11/16 [00:35<00:19,  3.88s/it]"
          ]
        },
        {
          "output_type": "stream",
          "name": "stdout",
          "text": [
            "[강서구] RMSE: 1.3224\n"
          ]
        },
        {
          "output_type": "stream",
          "name": "stderr",
          "text": [
            "\r구별 모델 학습:  75%|███████▌  | 12/16 [00:38<00:14,  3.61s/it]"
          ]
        },
        {
          "output_type": "stream",
          "name": "stdout",
          "text": [
            "[북구] RMSE: 1.0406\n"
          ]
        },
        {
          "output_type": "stream",
          "name": "stderr",
          "text": [
            "\r구별 모델 학습:  81%|████████▏ | 13/16 [00:41<00:09,  3.33s/it]"
          ]
        },
        {
          "output_type": "stream",
          "name": "stdout",
          "text": [
            "[부산진구] RMSE: 1.0283\n"
          ]
        },
        {
          "output_type": "stream",
          "name": "stderr",
          "text": [
            "\r구별 모델 학습:  88%|████████▊ | 14/16 [00:43<00:06,  3.13s/it]"
          ]
        },
        {
          "output_type": "stream",
          "name": "stdout",
          "text": [
            "[동래구] RMSE: 1.1630\n"
          ]
        },
        {
          "output_type": "stream",
          "name": "stderr",
          "text": [
            "\r구별 모델 학습:  94%|█████████▍| 15/16 [00:46<00:02,  2.93s/it]"
          ]
        },
        {
          "output_type": "stream",
          "name": "stdout",
          "text": [
            "[동구] RMSE: 0.9921\n"
          ]
        },
        {
          "output_type": "stream",
          "name": "stderr",
          "text": [
            "구별 모델 학습: 100%|██████████| 16/16 [00:51<00:00,  3.24s/it]"
          ]
        },
        {
          "output_type": "stream",
          "name": "stdout",
          "text": [
            "[기장군] RMSE: 1.1459\n"
          ]
        },
        {
          "output_type": "stream",
          "name": "stderr",
          "text": [
            "\n"
          ]
        },
        {
          "output_type": "stream",
          "name": "stdout",
          "text": [
            "\n",
            "📊 전체 검증 데이터 RMSE (역변환 기준): 1.1199\n"
          ]
        },
        {
          "output_type": "stream",
          "name": "stderr",
          "text": [
            "2024 예측: 100%|██████████| 16/16 [00:00<00:00, 55.41it/s]\n"
          ]
        },
        {
          "output_type": "stream",
          "name": "stdout",
          "text": [
            "\n",
            "✅ 제출 파일 저장 완료: 250028.csv\n"
          ]
        }
      ]
    },
    {
      "cell_type": "code",
      "source": [],
      "metadata": {
        "id": "Bar0_qAUgYYO"
      },
      "execution_count": null,
      "outputs": []
    }
  ]
}