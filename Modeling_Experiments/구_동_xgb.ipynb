{
  "nbformat": 4,
  "nbformat_minor": 0,
  "metadata": {
    "colab": {
      "provenance": [],
      "gpuType": "T4"
    },
    "kernelspec": {
      "name": "python3",
      "display_name": "Python 3"
    },
    "language_info": {
      "name": "python"
    },
    "accelerator": "GPU"
  },
  "cells": [
    {
      "cell_type": "code",
      "source": [
        "!pip install -U scikit-learn==1.3.2 xgboost==1.7.6"
      ],
      "metadata": {
        "id": "tmqPr82QrpGE",
        "colab": {
          "base_uri": "https://localhost:8080/",
          "height": 410
        },
        "collapsed": true,
        "outputId": "0e043d35-4f13-4221-e3f4-01f250ffe15b"
      },
      "execution_count": null,
      "outputs": [
        {
          "output_type": "stream",
          "name": "stdout",
          "text": [
            "Requirement already satisfied: scikit-learn==1.3.2 in /usr/local/lib/python3.11/dist-packages (1.3.2)\n",
            "Requirement already satisfied: xgboost==1.7.6 in /usr/local/lib/python3.11/dist-packages (1.7.6)\n",
            "Requirement already satisfied: numpy<2.0,>=1.17.3 in /usr/local/lib/python3.11/dist-packages (from scikit-learn==1.3.2) (1.26.4)\n",
            "Requirement already satisfied: scipy>=1.5.0 in /usr/local/lib/python3.11/dist-packages (from scikit-learn==1.3.2) (1.15.3)\n",
            "Requirement already satisfied: joblib>=1.1.1 in /usr/local/lib/python3.11/dist-packages (from scikit-learn==1.3.2) (1.5.1)\n",
            "Requirement already satisfied: threadpoolctl>=2.0.0 in /usr/local/lib/python3.11/dist-packages (from scikit-learn==1.3.2) (3.6.0)\n"
          ]
        },
        {
          "output_type": "error",
          "ename": "KeyboardInterrupt",
          "evalue": "",
          "traceback": [
            "\u001b[0;31m---------------------------------------------------------------------------\u001b[0m",
            "\u001b[0;31mKeyboardInterrupt\u001b[0m                         Traceback (most recent call last)",
            "\u001b[0;32m/tmp/ipython-input-1-3570513557.py\u001b[0m in \u001b[0;36m<cell line: 0>\u001b[0;34m()\u001b[0m\n\u001b[0;32m----> 1\u001b[0;31m \u001b[0mget_ipython\u001b[0m\u001b[0;34m(\u001b[0m\u001b[0;34m)\u001b[0m\u001b[0;34m.\u001b[0m\u001b[0msystem\u001b[0m\u001b[0;34m(\u001b[0m\u001b[0;34m'pip install -U scikit-learn==1.3.2 xgboost==1.7.6'\u001b[0m\u001b[0;34m)\u001b[0m\u001b[0;34m\u001b[0m\u001b[0;34m\u001b[0m\u001b[0m\n\u001b[0m",
            "\u001b[0;32m/usr/local/lib/python3.11/dist-packages/google/colab/_shell.py\u001b[0m in \u001b[0;36msystem\u001b[0;34m(self, *args, **kwargs)\u001b[0m\n\u001b[1;32m    150\u001b[0m \u001b[0;34m\u001b[0m\u001b[0m\n\u001b[1;32m    151\u001b[0m     \u001b[0;32mif\u001b[0m \u001b[0mpip_warn\u001b[0m\u001b[0;34m:\u001b[0m\u001b[0;34m\u001b[0m\u001b[0;34m\u001b[0m\u001b[0m\n\u001b[0;32m--> 152\u001b[0;31m       \u001b[0m_pip\u001b[0m\u001b[0;34m.\u001b[0m\u001b[0mprint_previous_import_warning\u001b[0m\u001b[0;34m(\u001b[0m\u001b[0moutput\u001b[0m\u001b[0;34m)\u001b[0m\u001b[0;34m\u001b[0m\u001b[0;34m\u001b[0m\u001b[0m\n\u001b[0m\u001b[1;32m    153\u001b[0m \u001b[0;34m\u001b[0m\u001b[0m\n\u001b[1;32m    154\u001b[0m   \u001b[0;32mdef\u001b[0m \u001b[0m_send_error\u001b[0m\u001b[0;34m(\u001b[0m\u001b[0mself\u001b[0m\u001b[0;34m,\u001b[0m \u001b[0mexc_content\u001b[0m\u001b[0;34m)\u001b[0m\u001b[0;34m:\u001b[0m\u001b[0;34m\u001b[0m\u001b[0;34m\u001b[0m\u001b[0m\n",
            "\u001b[0;32m/usr/local/lib/python3.11/dist-packages/google/colab/_pip.py\u001b[0m in \u001b[0;36mprint_previous_import_warning\u001b[0;34m(output)\u001b[0m\n\u001b[1;32m     54\u001b[0m \u001b[0;32mdef\u001b[0m \u001b[0mprint_previous_import_warning\u001b[0m\u001b[0;34m(\u001b[0m\u001b[0moutput\u001b[0m\u001b[0;34m)\u001b[0m\u001b[0;34m:\u001b[0m\u001b[0;34m\u001b[0m\u001b[0;34m\u001b[0m\u001b[0m\n\u001b[1;32m     55\u001b[0m   \u001b[0;34m\"\"\"Prints a warning about previously imported packages.\"\"\"\u001b[0m\u001b[0;34m\u001b[0m\u001b[0;34m\u001b[0m\u001b[0m\n\u001b[0;32m---> 56\u001b[0;31m   \u001b[0mpackages\u001b[0m \u001b[0;34m=\u001b[0m \u001b[0m_previously_imported_packages\u001b[0m\u001b[0;34m(\u001b[0m\u001b[0moutput\u001b[0m\u001b[0;34m)\u001b[0m\u001b[0;34m\u001b[0m\u001b[0;34m\u001b[0m\u001b[0m\n\u001b[0m\u001b[1;32m     57\u001b[0m   \u001b[0;32mif\u001b[0m \u001b[0mpackages\u001b[0m\u001b[0;34m:\u001b[0m\u001b[0;34m\u001b[0m\u001b[0;34m\u001b[0m\u001b[0m\n\u001b[1;32m     58\u001b[0m     \u001b[0;31m# display a list of packages using the colab-display-data mimetype, which\u001b[0m\u001b[0;34m\u001b[0m\u001b[0;34m\u001b[0m\u001b[0m\n",
            "\u001b[0;32m/usr/local/lib/python3.11/dist-packages/google/colab/_pip.py\u001b[0m in \u001b[0;36m_previously_imported_packages\u001b[0;34m(pip_output)\u001b[0m\n\u001b[1;32m     48\u001b[0m \u001b[0;32mdef\u001b[0m \u001b[0m_previously_imported_packages\u001b[0m\u001b[0;34m(\u001b[0m\u001b[0mpip_output\u001b[0m\u001b[0;34m)\u001b[0m\u001b[0;34m:\u001b[0m\u001b[0;34m\u001b[0m\u001b[0;34m\u001b[0m\u001b[0m\n\u001b[1;32m     49\u001b[0m   \u001b[0;34m\"\"\"List all previously imported packages from a pip install.\"\"\"\u001b[0m\u001b[0;34m\u001b[0m\u001b[0;34m\u001b[0m\u001b[0m\n\u001b[0;32m---> 50\u001b[0;31m   \u001b[0minstalled\u001b[0m \u001b[0;34m=\u001b[0m \u001b[0mset\u001b[0m\u001b[0;34m(\u001b[0m\u001b[0m_extract_toplevel_packages\u001b[0m\u001b[0;34m(\u001b[0m\u001b[0mpip_output\u001b[0m\u001b[0;34m)\u001b[0m\u001b[0;34m)\u001b[0m\u001b[0;34m\u001b[0m\u001b[0;34m\u001b[0m\u001b[0m\n\u001b[0m\u001b[1;32m     51\u001b[0m   \u001b[0;32mreturn\u001b[0m \u001b[0msorted\u001b[0m\u001b[0;34m(\u001b[0m\u001b[0minstalled\u001b[0m\u001b[0;34m.\u001b[0m\u001b[0mintersection\u001b[0m\u001b[0;34m(\u001b[0m\u001b[0mset\u001b[0m\u001b[0;34m(\u001b[0m\u001b[0msys\u001b[0m\u001b[0;34m.\u001b[0m\u001b[0mmodules\u001b[0m\u001b[0;34m)\u001b[0m\u001b[0;34m)\u001b[0m\u001b[0;34m)\u001b[0m\u001b[0;34m\u001b[0m\u001b[0;34m\u001b[0m\u001b[0m\n\u001b[1;32m     52\u001b[0m \u001b[0;34m\u001b[0m\u001b[0m\n",
            "\u001b[0;32m/usr/local/lib/python3.11/dist-packages/google/colab/_pip.py\u001b[0m in \u001b[0;36m_extract_toplevel_packages\u001b[0;34m(pip_output)\u001b[0m\n\u001b[1;32m     37\u001b[0m   \u001b[0;34m\"\"\"Extract the list of toplevel packages associated with a pip install.\"\"\"\u001b[0m\u001b[0;34m\u001b[0m\u001b[0;34m\u001b[0m\u001b[0m\n\u001b[1;32m     38\u001b[0m   \u001b[0mtoplevel\u001b[0m \u001b[0;34m=\u001b[0m \u001b[0mcollections\u001b[0m\u001b[0;34m.\u001b[0m\u001b[0mdefaultdict\u001b[0m\u001b[0;34m(\u001b[0m\u001b[0mset\u001b[0m\u001b[0;34m)\u001b[0m\u001b[0;34m\u001b[0m\u001b[0;34m\u001b[0m\u001b[0m\n\u001b[0;32m---> 39\u001b[0;31m   \u001b[0;32mfor\u001b[0m \u001b[0mm\u001b[0m\u001b[0;34m,\u001b[0m \u001b[0mps\u001b[0m \u001b[0;32min\u001b[0m \u001b[0mimportlib\u001b[0m\u001b[0;34m.\u001b[0m\u001b[0mmetadata\u001b[0m\u001b[0;34m.\u001b[0m\u001b[0mpackages_distributions\u001b[0m\u001b[0;34m(\u001b[0m\u001b[0;34m)\u001b[0m\u001b[0;34m.\u001b[0m\u001b[0mitems\u001b[0m\u001b[0;34m(\u001b[0m\u001b[0;34m)\u001b[0m\u001b[0;34m:\u001b[0m\u001b[0;34m\u001b[0m\u001b[0;34m\u001b[0m\u001b[0m\n\u001b[0m\u001b[1;32m     40\u001b[0m     \u001b[0;32mfor\u001b[0m \u001b[0mp\u001b[0m \u001b[0;32min\u001b[0m \u001b[0mps\u001b[0m\u001b[0;34m:\u001b[0m\u001b[0;34m\u001b[0m\u001b[0;34m\u001b[0m\u001b[0m\n\u001b[1;32m     41\u001b[0m       \u001b[0mtoplevel\u001b[0m\u001b[0;34m[\u001b[0m\u001b[0mp\u001b[0m\u001b[0;34m]\u001b[0m\u001b[0;34m.\u001b[0m\u001b[0madd\u001b[0m\u001b[0;34m(\u001b[0m\u001b[0mm\u001b[0m\u001b[0;34m)\u001b[0m\u001b[0;34m\u001b[0m\u001b[0;34m\u001b[0m\u001b[0m\n",
            "\u001b[0;32m/usr/lib/python3.11/importlib/metadata/__init__.py\u001b[0m in \u001b[0;36mpackages_distributions\u001b[0;34m()\u001b[0m\n\u001b[1;32m   1074\u001b[0m     \u001b[0;32mfor\u001b[0m \u001b[0mdist\u001b[0m \u001b[0;32min\u001b[0m \u001b[0mdistributions\u001b[0m\u001b[0;34m(\u001b[0m\u001b[0;34m)\u001b[0m\u001b[0;34m:\u001b[0m\u001b[0;34m\u001b[0m\u001b[0;34m\u001b[0m\u001b[0m\n\u001b[1;32m   1075\u001b[0m         \u001b[0;32mfor\u001b[0m \u001b[0mpkg\u001b[0m \u001b[0;32min\u001b[0m \u001b[0m_top_level_declared\u001b[0m\u001b[0;34m(\u001b[0m\u001b[0mdist\u001b[0m\u001b[0;34m)\u001b[0m \u001b[0;32mor\u001b[0m \u001b[0m_top_level_inferred\u001b[0m\u001b[0;34m(\u001b[0m\u001b[0mdist\u001b[0m\u001b[0;34m)\u001b[0m\u001b[0;34m:\u001b[0m\u001b[0;34m\u001b[0m\u001b[0;34m\u001b[0m\u001b[0m\n\u001b[0;32m-> 1076\u001b[0;31m             \u001b[0mpkg_to_dist\u001b[0m\u001b[0;34m[\u001b[0m\u001b[0mpkg\u001b[0m\u001b[0;34m]\u001b[0m\u001b[0;34m.\u001b[0m\u001b[0mappend\u001b[0m\u001b[0;34m(\u001b[0m\u001b[0mdist\u001b[0m\u001b[0;34m.\u001b[0m\u001b[0mmetadata\u001b[0m\u001b[0;34m[\u001b[0m\u001b[0;34m'Name'\u001b[0m\u001b[0;34m]\u001b[0m\u001b[0;34m)\u001b[0m\u001b[0;34m\u001b[0m\u001b[0;34m\u001b[0m\u001b[0m\n\u001b[0m\u001b[1;32m   1077\u001b[0m     \u001b[0;32mreturn\u001b[0m \u001b[0mdict\u001b[0m\u001b[0;34m(\u001b[0m\u001b[0mpkg_to_dist\u001b[0m\u001b[0;34m)\u001b[0m\u001b[0;34m\u001b[0m\u001b[0;34m\u001b[0m\u001b[0m\n\u001b[1;32m   1078\u001b[0m \u001b[0;34m\u001b[0m\u001b[0m\n",
            "\u001b[0;32m/usr/local/lib/python3.11/dist-packages/importlib_metadata/__init__.py\u001b[0m in \u001b[0;36mmetadata\u001b[0;34m(self)\u001b[0m\n\u001b[1;32m    525\u001b[0m \u001b[0;34m\u001b[0m\u001b[0m\n\u001b[1;32m    526\u001b[0m         text = (\n\u001b[0;32m--> 527\u001b[0;31m             \u001b[0mself\u001b[0m\u001b[0;34m.\u001b[0m\u001b[0mread_text\u001b[0m\u001b[0;34m(\u001b[0m\u001b[0;34m'METADATA'\u001b[0m\u001b[0;34m)\u001b[0m\u001b[0;34m\u001b[0m\u001b[0;34m\u001b[0m\u001b[0m\n\u001b[0m\u001b[1;32m    528\u001b[0m             \u001b[0;32mor\u001b[0m \u001b[0mself\u001b[0m\u001b[0;34m.\u001b[0m\u001b[0mread_text\u001b[0m\u001b[0;34m(\u001b[0m\u001b[0;34m'PKG-INFO'\u001b[0m\u001b[0;34m)\u001b[0m\u001b[0;34m\u001b[0m\u001b[0;34m\u001b[0m\u001b[0m\n\u001b[1;32m    529\u001b[0m             \u001b[0;31m# This last clause is here to support old egg-info files.  Its\u001b[0m\u001b[0;34m\u001b[0m\u001b[0;34m\u001b[0m\u001b[0m\n",
            "\u001b[0;32m/usr/local/lib/python3.11/dist-packages/importlib_metadata/__init__.py\u001b[0m in \u001b[0;36mread_text\u001b[0;34m(self, filename)\u001b[0m\n\u001b[1;32m    996\u001b[0m             \u001b[0mPermissionError\u001b[0m\u001b[0;34m,\u001b[0m\u001b[0;34m\u001b[0m\u001b[0;34m\u001b[0m\u001b[0m\n\u001b[1;32m    997\u001b[0m         ):\n\u001b[0;32m--> 998\u001b[0;31m             \u001b[0;32mreturn\u001b[0m \u001b[0mself\u001b[0m\u001b[0;34m.\u001b[0m\u001b[0m_path\u001b[0m\u001b[0;34m.\u001b[0m\u001b[0mjoinpath\u001b[0m\u001b[0;34m(\u001b[0m\u001b[0mfilename\u001b[0m\u001b[0;34m)\u001b[0m\u001b[0;34m.\u001b[0m\u001b[0mread_text\u001b[0m\u001b[0;34m(\u001b[0m\u001b[0mencoding\u001b[0m\u001b[0;34m=\u001b[0m\u001b[0;34m'utf-8'\u001b[0m\u001b[0;34m)\u001b[0m\u001b[0;34m\u001b[0m\u001b[0;34m\u001b[0m\u001b[0m\n\u001b[0m\u001b[1;32m    999\u001b[0m \u001b[0;34m\u001b[0m\u001b[0m\n\u001b[1;32m   1000\u001b[0m         \u001b[0;32mreturn\u001b[0m \u001b[0;32mNone\u001b[0m\u001b[0;34m\u001b[0m\u001b[0;34m\u001b[0m\u001b[0m\n",
            "\u001b[0;32m/usr/lib/python3.11/pathlib.py\u001b[0m in \u001b[0;36mread_text\u001b[0;34m(self, encoding, errors)\u001b[0m\n\u001b[1;32m   1057\u001b[0m         \u001b[0mencoding\u001b[0m \u001b[0;34m=\u001b[0m \u001b[0mio\u001b[0m\u001b[0;34m.\u001b[0m\u001b[0mtext_encoding\u001b[0m\u001b[0;34m(\u001b[0m\u001b[0mencoding\u001b[0m\u001b[0;34m)\u001b[0m\u001b[0;34m\u001b[0m\u001b[0;34m\u001b[0m\u001b[0m\n\u001b[1;32m   1058\u001b[0m         \u001b[0;32mwith\u001b[0m \u001b[0mself\u001b[0m\u001b[0;34m.\u001b[0m\u001b[0mopen\u001b[0m\u001b[0;34m(\u001b[0m\u001b[0mmode\u001b[0m\u001b[0;34m=\u001b[0m\u001b[0;34m'r'\u001b[0m\u001b[0;34m,\u001b[0m \u001b[0mencoding\u001b[0m\u001b[0;34m=\u001b[0m\u001b[0mencoding\u001b[0m\u001b[0;34m,\u001b[0m \u001b[0merrors\u001b[0m\u001b[0;34m=\u001b[0m\u001b[0merrors\u001b[0m\u001b[0;34m)\u001b[0m \u001b[0;32mas\u001b[0m \u001b[0mf\u001b[0m\u001b[0;34m:\u001b[0m\u001b[0;34m\u001b[0m\u001b[0;34m\u001b[0m\u001b[0m\n\u001b[0;32m-> 1059\u001b[0;31m             \u001b[0;32mreturn\u001b[0m \u001b[0mf\u001b[0m\u001b[0;34m.\u001b[0m\u001b[0mread\u001b[0m\u001b[0;34m(\u001b[0m\u001b[0;34m)\u001b[0m\u001b[0;34m\u001b[0m\u001b[0;34m\u001b[0m\u001b[0m\n\u001b[0m\u001b[1;32m   1060\u001b[0m \u001b[0;34m\u001b[0m\u001b[0m\n\u001b[1;32m   1061\u001b[0m     \u001b[0;32mdef\u001b[0m \u001b[0mwrite_bytes\u001b[0m\u001b[0;34m(\u001b[0m\u001b[0mself\u001b[0m\u001b[0;34m,\u001b[0m \u001b[0mdata\u001b[0m\u001b[0;34m)\u001b[0m\u001b[0;34m:\u001b[0m\u001b[0;34m\u001b[0m\u001b[0;34m\u001b[0m\u001b[0m\n",
            "\u001b[0;31mKeyboardInterrupt\u001b[0m: "
          ]
        }
      ]
    },
    {
      "cell_type": "code",
      "source": [
        "import pandas as pd\n",
        "import numpy as np\n",
        "from sklearn.model_selection import train_test_split\n",
        "from sklearn.preprocessing import LabelEncoder\n",
        "from sklearn.metrics import mean_squared_error\n",
        "from xgboost import XGBRegressor\n",
        "from tqdm import tqdm\n",
        "\n",
        "# 1. 데이터 로드 및 전처리\n",
        "df = pd.read_csv('/content/2020_2023_최종데이터.csv')\n",
        "if 'tm_dt' in df.columns:\n",
        "    df.drop(columns=['tm_dt'], inplace=True)\n",
        "\n",
        "# 날짜 파생 변수 생성\n",
        "df['year'] = df['tm'] // 10000\n",
        "df['month'] = (df['tm'] % 10000) // 100\n",
        "df['day'] = df['tm'] % 100\n",
        "df['weekday'] = pd.to_datetime(df['tm'], format='%Y%m%d').dt.weekday\n",
        "df['is_weekend'] = df['weekday'].isin([5, 6]).astype(int)\n",
        "df['is_before_holiday'] = df['공휴일'].shift(-1, fill_value=0)\n",
        "df['is_after_holiday'] = df['공휴일'].shift(1, fill_value=0)\n",
        "\n",
        "# 인코딩 및 평균 타겟 인코딩\n",
        "encoder = LabelEncoder()\n",
        "df['address_city'] = encoder.fit_transform(df['address_city'])\n",
        "df['address_gu_mean_target'] = df.groupby('address_gu')['call_count'].transform('mean')\n",
        "df['sub_address_mean_target'] = df.groupby('sub_address')['call_count'].transform('mean')\n",
        "\n",
        "# 데이터 분리\n",
        "dong_based_gu = {'연제구', '영도구'}\n",
        "address_gu_all = df['address_gu']\n",
        "X = df.drop(columns=['tm', 'call_count', 'address_gu', 'sub_address'])\n",
        "y = df['call_count']\n",
        "X = X.astype('float32')\n",
        "y = y.astype('float32')\n",
        "\n",
        "X_train, X_val, y_train, y_val, gu_train, gu_val = train_test_split(\n",
        "    X, y, address_gu_all, test_size=0.2, random_state=42\n",
        ")\n",
        "\n",
        "# 모델 저장소\n",
        "gu_models = {}\n",
        "dong_models = {}\n",
        "\n",
        "# 모델 학습\n",
        "gu_list = gu_train.unique()\n",
        "for gu in gu_list:\n",
        "    if gu in dong_based_gu:\n",
        "        sub_list = df[df['address_gu'] == gu]['sub_address'].unique()\n",
        "        for dong in sub_list:\n",
        "            mask = (gu_train == gu) & (df['sub_address'] == dong)\n",
        "            X_train_d = X_train[mask]\n",
        "            y_train_d = y_train[mask]\n",
        "\n",
        "            mask_val = (gu_val == gu) & (df['sub_address'] == dong)\n",
        "            X_val_d = X_val[mask_val]\n",
        "            y_val_d = y_val[mask_val]\n",
        "\n",
        "            if len(X_train_d) < 30:\n",
        "                print(f\"⚠️ {gu}-{dong}: 데이터 부족\")\n",
        "                continue\n",
        "\n",
        "            model = XGBRegressor(n_estimators=300, max_depth=6, learning_rate=0.05,\n",
        "                                 subsample=0.8, colsample_bytree=0.8, tree_method='hist',\n",
        "                                 random_state=42)\n",
        "            model.fit(X_train_d, y_train_d,\n",
        "                      eval_set=[(X_val_d, y_val_d)],\n",
        "                      early_stopping_rounds=30,\n",
        "                      verbose=False)\n",
        "            rmse = np.sqrt(mean_squared_error(y_val_d, model.predict(X_val_d)))\n",
        "            dong_models[f\"{gu}_{dong}\"] = model\n",
        "            print(f\"✅ 동 모델 학습 완료: {gu}-{dong}, RMSE: {rmse:.4f}\")\n",
        "    else:\n",
        "        mask = gu_train == gu\n",
        "        X_train_g = X_train[mask]\n",
        "        y_train_g = y_train[mask]\n",
        "\n",
        "        mask_val = gu_val == gu\n",
        "        X_val_g = X_val[mask_val]\n",
        "        y_val_g = y_val[mask_val]\n",
        "\n",
        "        if len(X_train_g) < 30:\n",
        "            print(f\"⚠️ {gu}: 데이터 부족\")\n",
        "            continue\n",
        "\n",
        "        model = XGBRegressor(n_estimators=300, max_depth=6, learning_rate=0.05,\n",
        "                             subsample=0.8, colsample_bytree=0.8, tree_method='hist',\n",
        "                             random_state=42)\n",
        "        model.fit(X_train_g, y_train_g,\n",
        "                  eval_set=[(X_val_g, y_val_g)],\n",
        "                  early_stopping_rounds=30,\n",
        "                  verbose=False)\n",
        "        rmse = np.sqrt(mean_squared_error(y_val_g, model.predict(X_val_g)))\n",
        "        gu_models[gu] = model\n",
        "        print(f\"✅ 구 모델 학습 완료: {gu}, RMSE: {rmse:.4f}\")\n",
        "\n",
        "# 11. 전체 검증 RMSE 출력\n",
        "all_preds = []\n",
        "all_targets = []\n",
        "\n",
        "for gu in gu_models.keys():\n",
        "    X_val_gu = X_val[gu_val == gu]\n",
        "    y_val_gu = y_val[gu_val == gu]\n",
        "    y_pred_val = gu_models[gu].predict(X_val_gu)\n",
        "\n",
        "    all_preds.extend(y_pred_val)\n",
        "    all_targets.extend(y_val_gu)\n",
        "\n",
        "total_rmse = np.sqrt(mean_squared_error(all_targets, all_preds))\n",
        "print(f\"\\n📊 전체 RMSE (call_count 기준): {total_rmse:.4f}\")\n",
        "\n"
      ],
      "metadata": {
        "id": "7yt2pgmh6AYb",
        "colab": {
          "base_uri": "https://localhost:8080/"
        },
        "outputId": "f6d3c66c-3dd2-4369-be37-5059f574077a"
      },
      "execution_count": null,
      "outputs": [
        {
          "output_type": "stream",
          "name": "stderr",
          "text": [
            "/usr/local/lib/python3.11/dist-packages/xgboost/sklearn.py:835: UserWarning: `early_stopping_rounds` in `fit` method is deprecated for better compatibility with scikit-learn, use `early_stopping_rounds` in constructor or`set_params` instead.\n",
            "  warnings.warn(\n"
          ]
        },
        {
          "output_type": "stream",
          "name": "stdout",
          "text": [
            "✅ 구 모델 학습 완료: 해운대구, RMSE: 1.6321\n"
          ]
        },
        {
          "output_type": "stream",
          "name": "stderr",
          "text": [
            "/usr/local/lib/python3.11/dist-packages/xgboost/sklearn.py:835: UserWarning: `early_stopping_rounds` in `fit` method is deprecated for better compatibility with scikit-learn, use `early_stopping_rounds` in constructor or`set_params` instead.\n",
            "  warnings.warn(\n"
          ]
        },
        {
          "output_type": "stream",
          "name": "stdout",
          "text": [
            "✅ 구 모델 학습 완료: 사하구, RMSE: 1.3843\n"
          ]
        },
        {
          "output_type": "stream",
          "name": "stderr",
          "text": [
            "/usr/local/lib/python3.11/dist-packages/xgboost/sklearn.py:835: UserWarning: `early_stopping_rounds` in `fit` method is deprecated for better compatibility with scikit-learn, use `early_stopping_rounds` in constructor or`set_params` instead.\n",
            "  warnings.warn(\n"
          ]
        },
        {
          "output_type": "stream",
          "name": "stdout",
          "text": [
            "✅ 구 모델 학습 완료: 금정구, RMSE: 0.9570\n"
          ]
        },
        {
          "output_type": "stream",
          "name": "stderr",
          "text": [
            "/usr/local/lib/python3.11/dist-packages/xgboost/sklearn.py:835: UserWarning: `early_stopping_rounds` in `fit` method is deprecated for better compatibility with scikit-learn, use `early_stopping_rounds` in constructor or`set_params` instead.\n",
            "  warnings.warn(\n"
          ]
        },
        {
          "output_type": "stream",
          "name": "stdout",
          "text": [
            "✅ 구 모델 학습 완료: 북구, RMSE: 1.2857\n"
          ]
        },
        {
          "output_type": "stream",
          "name": "stderr",
          "text": [
            "/usr/local/lib/python3.11/dist-packages/xgboost/sklearn.py:835: UserWarning: `early_stopping_rounds` in `fit` method is deprecated for better compatibility with scikit-learn, use `early_stopping_rounds` in constructor or`set_params` instead.\n",
            "  warnings.warn(\n"
          ]
        },
        {
          "output_type": "stream",
          "name": "stdout",
          "text": [
            "✅ 구 모델 학습 완료: 기장군, RMSE: 1.2933\n"
          ]
        },
        {
          "output_type": "stream",
          "name": "stderr",
          "text": [
            "/usr/local/lib/python3.11/dist-packages/xgboost/sklearn.py:835: UserWarning: `early_stopping_rounds` in `fit` method is deprecated for better compatibility with scikit-learn, use `early_stopping_rounds` in constructor or`set_params` instead.\n",
            "  warnings.warn(\n"
          ]
        },
        {
          "output_type": "stream",
          "name": "stdout",
          "text": [
            "✅ 구 모델 학습 완료: 동구, RMSE: 1.2667\n"
          ]
        },
        {
          "output_type": "stream",
          "name": "stderr",
          "text": [
            "/usr/local/lib/python3.11/dist-packages/xgboost/sklearn.py:835: UserWarning: `early_stopping_rounds` in `fit` method is deprecated for better compatibility with scikit-learn, use `early_stopping_rounds` in constructor or`set_params` instead.\n",
            "  warnings.warn(\n"
          ]
        },
        {
          "output_type": "stream",
          "name": "stdout",
          "text": [
            "✅ 구 모델 학습 완료: 사상구, RMSE: 0.9367\n"
          ]
        },
        {
          "output_type": "stream",
          "name": "stderr",
          "text": [
            "/usr/local/lib/python3.11/dist-packages/xgboost/sklearn.py:835: UserWarning: `early_stopping_rounds` in `fit` method is deprecated for better compatibility with scikit-learn, use `early_stopping_rounds` in constructor or`set_params` instead.\n",
            "  warnings.warn(\n"
          ]
        },
        {
          "output_type": "stream",
          "name": "stdout",
          "text": [
            "✅ 구 모델 학습 완료: 부산진구, RMSE: 1.3122\n"
          ]
        },
        {
          "output_type": "stream",
          "name": "stderr",
          "text": [
            "/usr/local/lib/python3.11/dist-packages/xgboost/sklearn.py:835: UserWarning: `early_stopping_rounds` in `fit` method is deprecated for better compatibility with scikit-learn, use `early_stopping_rounds` in constructor or`set_params` instead.\n",
            "  warnings.warn(\n"
          ]
        },
        {
          "output_type": "stream",
          "name": "stdout",
          "text": [
            "✅ 구 모델 학습 완료: 남구, RMSE: 1.6082\n"
          ]
        },
        {
          "output_type": "stream",
          "name": "stderr",
          "text": [
            "/tmp/ipython-input-2-4238224654.py:52: UserWarning: Boolean Series key will be reindexed to match DataFrame index.\n",
            "  X_train_d = X_train[mask]\n",
            "/tmp/ipython-input-2-4238224654.py:56: UserWarning: Boolean Series key will be reindexed to match DataFrame index.\n",
            "  X_val_d = X_val[mask_val]\n",
            "/usr/local/lib/python3.11/dist-packages/xgboost/sklearn.py:835: UserWarning: `early_stopping_rounds` in `fit` method is deprecated for better compatibility with scikit-learn, use `early_stopping_rounds` in constructor or`set_params` instead.\n",
            "  warnings.warn(\n"
          ]
        },
        {
          "output_type": "stream",
          "name": "stdout",
          "text": [
            "✅ 동 모델 학습 완료: 연제구-연산동, RMSE: 4.1729\n"
          ]
        },
        {
          "output_type": "stream",
          "name": "stderr",
          "text": [
            "/tmp/ipython-input-2-4238224654.py:52: UserWarning: Boolean Series key will be reindexed to match DataFrame index.\n",
            "  X_train_d = X_train[mask]\n",
            "/tmp/ipython-input-2-4238224654.py:56: UserWarning: Boolean Series key will be reindexed to match DataFrame index.\n",
            "  X_val_d = X_val[mask_val]\n",
            "/usr/local/lib/python3.11/dist-packages/xgboost/sklearn.py:835: UserWarning: `early_stopping_rounds` in `fit` method is deprecated for better compatibility with scikit-learn, use `early_stopping_rounds` in constructor or`set_params` instead.\n",
            "  warnings.warn(\n"
          ]
        },
        {
          "output_type": "stream",
          "name": "stdout",
          "text": [
            "✅ 동 모델 학습 완료: 연제구-거제동, RMSE: 0.9510\n"
          ]
        },
        {
          "output_type": "stream",
          "name": "stderr",
          "text": [
            "/usr/local/lib/python3.11/dist-packages/xgboost/sklearn.py:835: UserWarning: `early_stopping_rounds` in `fit` method is deprecated for better compatibility with scikit-learn, use `early_stopping_rounds` in constructor or`set_params` instead.\n",
            "  warnings.warn(\n"
          ]
        },
        {
          "output_type": "stream",
          "name": "stdout",
          "text": [
            "✅ 구 모델 학습 완료: 강서구, RMSE: 0.7930\n"
          ]
        },
        {
          "output_type": "stream",
          "name": "stderr",
          "text": [
            "/usr/local/lib/python3.11/dist-packages/xgboost/sklearn.py:835: UserWarning: `early_stopping_rounds` in `fit` method is deprecated for better compatibility with scikit-learn, use `early_stopping_rounds` in constructor or`set_params` instead.\n",
            "  warnings.warn(\n"
          ]
        },
        {
          "output_type": "stream",
          "name": "stdout",
          "text": [
            "✅ 구 모델 학습 완료: 수영구, RMSE: 1.2120\n"
          ]
        },
        {
          "output_type": "stream",
          "name": "stderr",
          "text": [
            "/usr/local/lib/python3.11/dist-packages/xgboost/sklearn.py:835: UserWarning: `early_stopping_rounds` in `fit` method is deprecated for better compatibility with scikit-learn, use `early_stopping_rounds` in constructor or`set_params` instead.\n",
            "  warnings.warn(\n"
          ]
        },
        {
          "output_type": "stream",
          "name": "stdout",
          "text": [
            "✅ 구 모델 학습 완료: 동래구, RMSE: 1.2718\n"
          ]
        },
        {
          "output_type": "stream",
          "name": "stderr",
          "text": [
            "/usr/local/lib/python3.11/dist-packages/xgboost/sklearn.py:835: UserWarning: `early_stopping_rounds` in `fit` method is deprecated for better compatibility with scikit-learn, use `early_stopping_rounds` in constructor or`set_params` instead.\n",
            "  warnings.warn(\n"
          ]
        },
        {
          "output_type": "stream",
          "name": "stdout",
          "text": [
            "✅ 구 모델 학습 완료: 중구, RMSE: 0.7384\n"
          ]
        },
        {
          "output_type": "stream",
          "name": "stderr",
          "text": [
            "/tmp/ipython-input-2-4238224654.py:52: UserWarning: Boolean Series key will be reindexed to match DataFrame index.\n",
            "  X_train_d = X_train[mask]\n",
            "/tmp/ipython-input-2-4238224654.py:56: UserWarning: Boolean Series key will be reindexed to match DataFrame index.\n",
            "  X_val_d = X_val[mask_val]\n",
            "/usr/local/lib/python3.11/dist-packages/xgboost/sklearn.py:835: UserWarning: `early_stopping_rounds` in `fit` method is deprecated for better compatibility with scikit-learn, use `early_stopping_rounds` in constructor or`set_params` instead.\n",
            "  warnings.warn(\n"
          ]
        },
        {
          "output_type": "stream",
          "name": "stdout",
          "text": [
            "✅ 동 모델 학습 완료: 영도구-대교동, RMSE: 0.3119\n"
          ]
        },
        {
          "output_type": "stream",
          "name": "stderr",
          "text": [
            "/tmp/ipython-input-2-4238224654.py:52: UserWarning: Boolean Series key will be reindexed to match DataFrame index.\n",
            "  X_train_d = X_train[mask]\n",
            "/tmp/ipython-input-2-4238224654.py:56: UserWarning: Boolean Series key will be reindexed to match DataFrame index.\n",
            "  X_val_d = X_val[mask_val]\n",
            "/usr/local/lib/python3.11/dist-packages/xgboost/sklearn.py:835: UserWarning: `early_stopping_rounds` in `fit` method is deprecated for better compatibility with scikit-learn, use `early_stopping_rounds` in constructor or`set_params` instead.\n",
            "  warnings.warn(\n"
          ]
        },
        {
          "output_type": "stream",
          "name": "stdout",
          "text": [
            "✅ 동 모델 학습 완료: 영도구-동삼동, RMSE: 1.4301\n"
          ]
        },
        {
          "output_type": "stream",
          "name": "stderr",
          "text": [
            "/tmp/ipython-input-2-4238224654.py:52: UserWarning: Boolean Series key will be reindexed to match DataFrame index.\n",
            "  X_train_d = X_train[mask]\n",
            "/tmp/ipython-input-2-4238224654.py:56: UserWarning: Boolean Series key will be reindexed to match DataFrame index.\n",
            "  X_val_d = X_val[mask_val]\n",
            "/usr/local/lib/python3.11/dist-packages/xgboost/sklearn.py:835: UserWarning: `early_stopping_rounds` in `fit` method is deprecated for better compatibility with scikit-learn, use `early_stopping_rounds` in constructor or`set_params` instead.\n",
            "  warnings.warn(\n"
          ]
        },
        {
          "output_type": "stream",
          "name": "stdout",
          "text": [
            "✅ 동 모델 학습 완료: 영도구-신선동, RMSE: 2.0642\n",
            "✅ 동 모델 학습 완료: 영도구-남항동, RMSE: 0.4386\n"
          ]
        },
        {
          "output_type": "stream",
          "name": "stderr",
          "text": [
            "/tmp/ipython-input-2-4238224654.py:52: UserWarning: Boolean Series key will be reindexed to match DataFrame index.\n",
            "  X_train_d = X_train[mask]\n",
            "/tmp/ipython-input-2-4238224654.py:56: UserWarning: Boolean Series key will be reindexed to match DataFrame index.\n",
            "  X_val_d = X_val[mask_val]\n",
            "/usr/local/lib/python3.11/dist-packages/xgboost/sklearn.py:835: UserWarning: `early_stopping_rounds` in `fit` method is deprecated for better compatibility with scikit-learn, use `early_stopping_rounds` in constructor or`set_params` instead.\n",
            "  warnings.warn(\n",
            "/tmp/ipython-input-2-4238224654.py:52: UserWarning: Boolean Series key will be reindexed to match DataFrame index.\n",
            "  X_train_d = X_train[mask]\n",
            "/tmp/ipython-input-2-4238224654.py:56: UserWarning: Boolean Series key will be reindexed to match DataFrame index.\n",
            "  X_val_d = X_val[mask_val]\n",
            "/usr/local/lib/python3.11/dist-packages/xgboost/sklearn.py:835: UserWarning: `early_stopping_rounds` in `fit` method is deprecated for better compatibility with scikit-learn, use `early_stopping_rounds` in constructor or`set_params` instead.\n",
            "  warnings.warn(\n"
          ]
        },
        {
          "output_type": "stream",
          "name": "stdout",
          "text": [
            "✅ 동 모델 학습 완료: 영도구-대평동, RMSE: 0.6499\n",
            "✅ 동 모델 학습 완료: 영도구-봉래동, RMSE: 0.5596\n"
          ]
        },
        {
          "output_type": "stream",
          "name": "stderr",
          "text": [
            "/tmp/ipython-input-2-4238224654.py:52: UserWarning: Boolean Series key will be reindexed to match DataFrame index.\n",
            "  X_train_d = X_train[mask]\n",
            "/tmp/ipython-input-2-4238224654.py:56: UserWarning: Boolean Series key will be reindexed to match DataFrame index.\n",
            "  X_val_d = X_val[mask_val]\n",
            "/usr/local/lib/python3.11/dist-packages/xgboost/sklearn.py:835: UserWarning: `early_stopping_rounds` in `fit` method is deprecated for better compatibility with scikit-learn, use `early_stopping_rounds` in constructor or`set_params` instead.\n",
            "  warnings.warn(\n",
            "/tmp/ipython-input-2-4238224654.py:52: UserWarning: Boolean Series key will be reindexed to match DataFrame index.\n",
            "  X_train_d = X_train[mask]\n",
            "/tmp/ipython-input-2-4238224654.py:56: UserWarning: Boolean Series key will be reindexed to match DataFrame index.\n",
            "  X_val_d = X_val[mask_val]\n",
            "/usr/local/lib/python3.11/dist-packages/xgboost/sklearn.py:835: UserWarning: `early_stopping_rounds` in `fit` method is deprecated for better compatibility with scikit-learn, use `early_stopping_rounds` in constructor or`set_params` instead.\n",
            "  warnings.warn(\n"
          ]
        },
        {
          "output_type": "stream",
          "name": "stdout",
          "text": [
            "✅ 동 모델 학습 완료: 영도구-청학동, RMSE: 7.9074\n"
          ]
        },
        {
          "output_type": "stream",
          "name": "stderr",
          "text": [
            "/tmp/ipython-input-2-4238224654.py:52: UserWarning: Boolean Series key will be reindexed to match DataFrame index.\n",
            "  X_train_d = X_train[mask]\n",
            "/tmp/ipython-input-2-4238224654.py:56: UserWarning: Boolean Series key will be reindexed to match DataFrame index.\n",
            "  X_val_d = X_val[mask_val]\n",
            "/usr/local/lib/python3.11/dist-packages/xgboost/sklearn.py:835: UserWarning: `early_stopping_rounds` in `fit` method is deprecated for better compatibility with scikit-learn, use `early_stopping_rounds` in constructor or`set_params` instead.\n",
            "  warnings.warn(\n"
          ]
        },
        {
          "output_type": "stream",
          "name": "stdout",
          "text": [
            "✅ 동 모델 학습 완료: 영도구-영선동, RMSE: 2.1428\n"
          ]
        },
        {
          "output_type": "stream",
          "name": "stderr",
          "text": [
            "/usr/local/lib/python3.11/dist-packages/xgboost/sklearn.py:835: UserWarning: `early_stopping_rounds` in `fit` method is deprecated for better compatibility with scikit-learn, use `early_stopping_rounds` in constructor or`set_params` instead.\n",
            "  warnings.warn(\n"
          ]
        },
        {
          "output_type": "stream",
          "name": "stdout",
          "text": [
            "✅ 구 모델 학습 완료: 서구, RMSE: 0.6766\n",
            "\n",
            "📊 전체 RMSE (call_count 기준): 1.2342\n"
          ]
        }
      ]
    },
    {
      "cell_type": "code",
      "source": [
        "# 예측\n",
        "valid_df = pd.read_csv('/content/2024_최종데이터.csv')\n",
        "if 'tm_dt' in valid_df.columns:\n",
        "    valid_df.drop(columns=['tm_dt'], inplace=True)\n",
        "\n",
        "# 평균값 매핑\n",
        "address_gu_mean_map = df.groupby('address_gu')['call_count'].mean().to_dict()\n",
        "sub_address_mean_map = df.groupby('sub_address')['call_count'].mean().to_dict()\n",
        "\n",
        "result_df_list = []\n",
        "\n",
        "for gu in tqdm(valid_df['address_gu'].unique()):\n",
        "    gu_df = valid_df[valid_df['address_gu'] == gu]\n",
        "\n",
        "    if gu in dong_based_gu:\n",
        "        for dong in gu_df['sub_address'].unique():\n",
        "            key = f\"{gu}_{dong}\"\n",
        "            if key not in dong_models:\n",
        "                print(f\"❌ 모델 없음: {key}\")\n",
        "                continue\n",
        "            dong_df = gu_df[gu_df['sub_address'] == dong].copy()\n",
        "\n",
        "            # 파생 변수 및 인코딩\n",
        "            dong_df['year'] = dong_df['tm'] // 10000\n",
        "            dong_df['month'] = (dong_df['tm'] % 10000) // 100\n",
        "            dong_df['day'] = dong_df['tm'] % 100\n",
        "            dong_df['weekday'] = pd.to_datetime(dong_df['tm'], format='%Y%m%d').dt.weekday\n",
        "            dong_df['is_weekend'] = dong_df['weekday'].isin([5, 6]).astype(int)\n",
        "            dong_df['is_before_holiday'] = dong_df['공휴일'].shift(-1, fill_value=0)\n",
        "            dong_df['is_after_holiday'] = dong_df['공휴일'].shift(1, fill_value=0)\n",
        "\n",
        "            dong_df['address_city'] = dong_df['address_city'].apply(\n",
        "                lambda x: x if x in encoder.classes_ else 'Unknown')\n",
        "            if 'Unknown' not in encoder.classes_:\n",
        "                encoder.classes_ = np.append(encoder.classes_, 'Unknown')\n",
        "            dong_df['address_city'] = encoder.transform(dong_df['address_city'])\n",
        "\n",
        "            dong_df['address_gu_mean_target'] = address_gu_mean_map.get(gu, df['call_count'].mean())\n",
        "            dong_df['sub_address_mean_target'] = dong_df['sub_address'].map(sub_address_mean_map)\n",
        "            dong_df['sub_address_mean_target'] = dong_df['sub_address_mean_target'].fillna(df['call_count'].mean())\n",
        "\n",
        "            X_valid = dong_df.drop(columns=['tm', 'call_count', 'address_gu', 'sub_address'], errors='ignore')\n",
        "            for col in X.columns:\n",
        "                if col not in X_valid.columns:\n",
        "                    X_valid[col] = 0.0\n",
        "            X_valid = X_valid[X.columns].astype('float32')\n",
        "\n",
        "            preds = np.round(dong_models[key].predict(X_valid)).astype(int)\n",
        "            dong_df['call_count'] = preds\n",
        "            result_df_list.append(dong_df[['tm', 'address_city', 'address_gu', 'sub_address', 'call_count']])\n",
        "    else:\n",
        "        if gu not in gu_models:\n",
        "            continue\n",
        "        gu_df = gu_df.copy()\n",
        "        gu_df['year'] = gu_df['tm'] // 10000\n",
        "        gu_df['month'] = (gu_df['tm'] % 10000) // 100\n",
        "        gu_df['day'] = gu_df['tm'] % 100\n",
        "        gu_df['weekday'] = pd.to_datetime(gu_df['tm'], format='%Y%m%d').dt.weekday\n",
        "        gu_df['is_weekend'] = gu_df['weekday'].isin([5, 6]).astype(int)\n",
        "        gu_df['is_before_holiday'] = gu_df['공휴일'].shift(-1, fill_value=0)\n",
        "        gu_df['is_after_holiday'] = gu_df['공휴일'].shift(1, fill_value=0)\n",
        "\n",
        "        gu_df['address_city'] = gu_df['address_city'].apply(\n",
        "            lambda x: x if x in encoder.classes_ else 'Unknown')\n",
        "        if 'Unknown' not in encoder.classes_:\n",
        "            encoder.classes_ = np.append(encoder.classes_, 'Unknown')\n",
        "        gu_df['address_city'] = encoder.transform(gu_df['address_city'])\n",
        "\n",
        "        gu_df['address_gu_mean_target'] = address_gu_mean_map.get(gu, df['call_count'].mean())\n",
        "        gu_df['sub_address_mean_target'] = gu_df['sub_address'].map(sub_address_mean_map)\n",
        "        gu_df['sub_address_mean_target'] = gu_df['sub_address_mean_target'].fillna(df['call_count'].mean())\n",
        "\n",
        "        X_valid = gu_df.drop(columns=['tm', 'call_count', 'address_gu', 'sub_address'], errors='ignore')\n",
        "        for col in X.columns:\n",
        "            if col not in X_valid.columns:\n",
        "                X_valid[col] = 0.0\n",
        "        X_valid = X_valid[X.columns].astype('float32')\n",
        "\n",
        "        preds = np.round(gu_models[gu].predict(X_valid)).astype(int)\n",
        "        gu_df['call_count'] = preds\n",
        "        result_df_list.append(gu_df[['tm', 'address_city', 'address_gu', 'sub_address', 'call_count']])"
      ],
      "metadata": {
        "colab": {
          "base_uri": "https://localhost:8080/"
        },
        "id": "yS5qL82unbuD",
        "outputId": "c5c5ae06-9902-4d17-e62d-0155357c820d"
      },
      "execution_count": null,
      "outputs": [
        {
          "output_type": "stream",
          "name": "stderr",
          "text": [
            "100%|██████████| 16/16 [00:00<00:00, 29.04it/s]\n"
          ]
        }
      ]
    },
    {
      "cell_type": "code",
      "source": [
        "\n",
        "# 제출 파일 생성\n",
        "valid_preds_df = pd.concat(result_df_list, ignore_index=True)\n",
        "valid_preds_df.rename(columns={'tm': 'TM'}, inplace=True)\n",
        "\n",
        "submission_template = pd.read_csv('/content/test_call119.csv', encoding='euc-kr')\n",
        "submission_template['address_city'] = submission_template['address_city'].apply(\n",
        "    lambda x: x if x in encoder.classes_ else 'Unknown')\n",
        "if 'Unknown' not in encoder.classes_:\n",
        "    encoder.classes_ = np.append(encoder.classes_, 'Unknown')\n",
        "submission_template['address_city'] = encoder.transform(submission_template['address_city'])\n",
        "submission_template.drop(columns=['call_count'], inplace=True, errors='ignore')\n",
        "\n",
        "submission = submission_template.merge(\n",
        "    valid_preds_df,\n",
        "    on=['TM', 'address_city', 'address_gu', 'sub_address'],\n",
        "    how='left'\n",
        ")\n",
        "\n",
        "submission['call_count'] = submission['call_count'].fillna(0).astype(int)\n",
        "submission.to_csv('250028.csv', index=False, encoding='cp949')\n",
        "print(\"✅ 제출 파일 저장 완료: 250028.csv\")\n"
      ],
      "metadata": {
        "colab": {
          "base_uri": "https://localhost:8080/"
        },
        "id": "bwDFA34WnbJv",
        "outputId": "7475761f-0f6b-43de-93eb-1e34f6c4568e"
      },
      "execution_count": null,
      "outputs": [
        {
          "output_type": "stream",
          "name": "stdout",
          "text": [
            "✅ 제출 파일 저장 완료: 250028.csv\n"
          ]
        }
      ]
    },
    {
      "cell_type": "code",
      "source": [
        "submission['call_count'].value_counts()"
      ],
      "metadata": {
        "colab": {
          "base_uri": "https://localhost:8080/",
          "height": 460
        },
        "id": "6TxWmQ6m7jli",
        "outputId": "05e074ce-7cae-4da2-f8a3-f837c74694fe"
      },
      "execution_count": null,
      "outputs": [
        {
          "output_type": "execute_result",
          "data": {
            "text/plain": [
              "call_count\n",
              "1     4504\n",
              "2     4206\n",
              "3      508\n",
              "4      121\n",
              "0       85\n",
              "6       56\n",
              "7       40\n",
              "5       39\n",
              "8       30\n",
              "9       10\n",
              "10       2\n",
              "Name: count, dtype: int64"
            ],
            "text/html": [
              "<div>\n",
              "<style scoped>\n",
              "    .dataframe tbody tr th:only-of-type {\n",
              "        vertical-align: middle;\n",
              "    }\n",
              "\n",
              "    .dataframe tbody tr th {\n",
              "        vertical-align: top;\n",
              "    }\n",
              "\n",
              "    .dataframe thead th {\n",
              "        text-align: right;\n",
              "    }\n",
              "</style>\n",
              "<table border=\"1\" class=\"dataframe\">\n",
              "  <thead>\n",
              "    <tr style=\"text-align: right;\">\n",
              "      <th></th>\n",
              "      <th>count</th>\n",
              "    </tr>\n",
              "    <tr>\n",
              "      <th>call_count</th>\n",
              "      <th></th>\n",
              "    </tr>\n",
              "  </thead>\n",
              "  <tbody>\n",
              "    <tr>\n",
              "      <th>1</th>\n",
              "      <td>4504</td>\n",
              "    </tr>\n",
              "    <tr>\n",
              "      <th>2</th>\n",
              "      <td>4206</td>\n",
              "    </tr>\n",
              "    <tr>\n",
              "      <th>3</th>\n",
              "      <td>508</td>\n",
              "    </tr>\n",
              "    <tr>\n",
              "      <th>4</th>\n",
              "      <td>121</td>\n",
              "    </tr>\n",
              "    <tr>\n",
              "      <th>0</th>\n",
              "      <td>85</td>\n",
              "    </tr>\n",
              "    <tr>\n",
              "      <th>6</th>\n",
              "      <td>56</td>\n",
              "    </tr>\n",
              "    <tr>\n",
              "      <th>7</th>\n",
              "      <td>40</td>\n",
              "    </tr>\n",
              "    <tr>\n",
              "      <th>5</th>\n",
              "      <td>39</td>\n",
              "    </tr>\n",
              "    <tr>\n",
              "      <th>8</th>\n",
              "      <td>30</td>\n",
              "    </tr>\n",
              "    <tr>\n",
              "      <th>9</th>\n",
              "      <td>10</td>\n",
              "    </tr>\n",
              "    <tr>\n",
              "      <th>10</th>\n",
              "      <td>2</td>\n",
              "    </tr>\n",
              "  </tbody>\n",
              "</table>\n",
              "</div><br><label><b>dtype:</b> int64</label>"
            ]
          },
          "metadata": {},
          "execution_count": 7
        }
      ]
    },
    {
      "cell_type": "code",
      "source": [],
      "metadata": {
        "id": "OIu8nSUnwrsY"
      },
      "execution_count": null,
      "outputs": []
    }
  ]
}