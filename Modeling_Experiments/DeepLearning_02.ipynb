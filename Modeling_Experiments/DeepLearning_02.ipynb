{
  "nbformat": 4,
  "nbformat_minor": 0,
  "metadata": {
    "colab": {
      "provenance": []
    },
    "kernelspec": {
      "name": "python3",
      "display_name": "Python 3"
    },
    "language_info": {
      "name": "python"
    }
  },
  "cells": [
    {
      "cell_type": "code",
      "execution_count": null,
      "metadata": {
        "colab": {
          "base_uri": "https://localhost:8080/"
        },
        "id": "Oc6TumM5XEIp",
        "outputId": "137479e6-5ccc-4873-dbb6-83c67129bde9"
      },
      "outputs": [
        {
          "output_type": "stream",
          "name": "stdout",
          "text": [
            "Mounted at /content/drive\n"
          ]
        }
      ],
      "source": [
        "from google.colab import drive\n",
        "drive.mount('/content/drive')"
      ]
    },
    {
      "cell_type": "code",
      "source": [
        "import pandas as pd\n",
        "import numpy as np\n",
        "\n",
        "df = pd.read_csv('/content/drive/MyDrive/Epoch 공모전/2020_2023_최종데이터.csv')\n",
        "df.drop(['tm_dt'], axis=1, inplace=True)"
      ],
      "metadata": {
        "id": "0C0wDidJXgqA"
      },
      "execution_count": null,
      "outputs": []
    },
    {
      "cell_type": "code",
      "source": [
        "# 범주형 변수 인코딩\n",
        "df = pd.get_dummies(df, columns=[\"address_city\", \"address_gu\", \"sub_address\"])"
      ],
      "metadata": {
        "id": "WklthGoNXKnh"
      },
      "execution_count": null,
      "outputs": []
    },
    {
      "cell_type": "code",
      "source": [
        "# X, y 분리\n",
        "X = df.drop(\"call_count\", axis=1)\n",
        "y = df[\"call_count\"]\n",
        "\n",
        "# 학습/테스트 분할\n",
        "from sklearn.model_selection import train_test_split\n",
        "X_train, X_test, y_train, y_test = train_test_split(\n",
        "    X, y, test_size=0.2, random_state=42\n",
        ")\n",
        "\n",
        "# 정규화 (StandardScaler)\n",
        "from sklearn.preprocessing import StandardScaler\n",
        "scaler = StandardScaler()\n",
        "X_train_scaled = scaler.fit_transform(X_train)\n",
        "X_test_scaled = scaler.transform(X_test)"
      ],
      "metadata": {
        "id": "izOw9KanXf2Z"
      },
      "execution_count": null,
      "outputs": []
    },
    {
      "cell_type": "code",
      "source": [
        "# 모델 구성\n",
        "from tensorflow.keras.models import Sequential\n",
        "from tensorflow.keras.layers import Dense, Dropout\n",
        "from tensorflow.keras.regularizers import l2\n",
        "\n",
        "model = Sequential([\n",
        "    Dense(128, activation='relu', input_shape=(X_train_scaled.shape[1],)),\n",
        "    Dropout(0.2),\n",
        "    Dense(64, activation='relu'),\n",
        "    Dropout(0.2),\n",
        "    Dense(1)\n",
        "])\n",
        "\n",
        "# 컴파일\n",
        "model.compile(optimizer='adam', loss='mse', metrics=['mae'])\n",
        "\n",
        "# 콜백 설정\n",
        "from tensorflow.keras.callbacks import EarlyStopping\n",
        "\n",
        "early_stop = EarlyStopping(\n",
        "    monitor='val_loss',\n",
        "    patience=5,\n",
        "    restore_best_weights=True\n",
        ")\n",
        "\n",
        "# 학습\n",
        "history = model.fit(\n",
        "    X_train_scaled, y_train,\n",
        "    epochs=100,\n",
        "    validation_split=0.2,\n",
        "    callbacks=[early_stop],\n",
        "    verbose=1\n",
        ")\n"
      ],
      "metadata": {
        "colab": {
          "base_uri": "https://localhost:8080/"
        },
        "id": "lo_rfMgyXw-w",
        "outputId": "162c5a16-4375-4b54-d9a7-4ea82407fbb2"
      },
      "execution_count": null,
      "outputs": [
        {
          "output_type": "stream",
          "name": "stdout",
          "text": [
            "Epoch 1/100\n"
          ]
        },
        {
          "output_type": "stream",
          "name": "stderr",
          "text": [
            "/usr/local/lib/python3.11/dist-packages/keras/src/layers/core/dense.py:87: UserWarning: Do not pass an `input_shape`/`input_dim` argument to a layer. When using Sequential models, prefer using an `Input(shape)` object as the first layer in the model instead.\n",
            "  super().__init__(activity_regularizer=activity_regularizer, **kwargs)\n"
          ]
        },
        {
          "output_type": "stream",
          "name": "stdout",
          "text": [
            "\u001b[1m859/859\u001b[0m \u001b[32m━━━━━━━━━━━━━━━━━━━━\u001b[0m\u001b[37m\u001b[0m \u001b[1m3s\u001b[0m 2ms/step - loss: 5.3607 - mae: 1.0955 - val_loss: 2.1980 - val_mae: 0.8474\n",
            "Epoch 2/100\n",
            "\u001b[1m859/859\u001b[0m \u001b[32m━━━━━━━━━━━━━━━━━━━━\u001b[0m\u001b[37m\u001b[0m \u001b[1m2s\u001b[0m 2ms/step - loss: 2.9652 - mae: 0.9004 - val_loss: 1.9607 - val_mae: 0.8462\n",
            "Epoch 3/100\n",
            "\u001b[1m859/859\u001b[0m \u001b[32m━━━━━━━━━━━━━━━━━━━━\u001b[0m\u001b[37m\u001b[0m \u001b[1m2s\u001b[0m 2ms/step - loss: 2.5346 - mae: 0.8731 - val_loss: 1.9276 - val_mae: 0.8107\n",
            "Epoch 4/100\n",
            "\u001b[1m859/859\u001b[0m \u001b[32m━━━━━━━━━━━━━━━━━━━━\u001b[0m\u001b[37m\u001b[0m \u001b[1m2s\u001b[0m 2ms/step - loss: 2.5278 - mae: 0.8567 - val_loss: 1.9589 - val_mae: 0.8120\n",
            "Epoch 5/100\n",
            "\u001b[1m859/859\u001b[0m \u001b[32m━━━━━━━━━━━━━━━━━━━━\u001b[0m\u001b[37m\u001b[0m \u001b[1m3s\u001b[0m 3ms/step - loss: 2.2554 - mae: 0.8434 - val_loss: 1.9652 - val_mae: 0.8226\n",
            "Epoch 6/100\n",
            "\u001b[1m859/859\u001b[0m \u001b[32m━━━━━━━━━━━━━━━━━━━━\u001b[0m\u001b[37m\u001b[0m \u001b[1m2s\u001b[0m 2ms/step - loss: 1.8224 - mae: 0.8282 - val_loss: 1.9221 - val_mae: 0.8018\n",
            "Epoch 7/100\n",
            "\u001b[1m859/859\u001b[0m \u001b[32m━━━━━━━━━━━━━━━━━━━━\u001b[0m\u001b[37m\u001b[0m \u001b[1m3s\u001b[0m 2ms/step - loss: 1.9606 - mae: 0.8250 - val_loss: 1.9611 - val_mae: 0.8389\n",
            "Epoch 8/100\n",
            "\u001b[1m859/859\u001b[0m \u001b[32m━━━━━━━━━━━━━━━━━━━━\u001b[0m\u001b[37m\u001b[0m \u001b[1m2s\u001b[0m 2ms/step - loss: 1.9704 - mae: 0.8221 - val_loss: 2.4728 - val_mae: 0.8545\n",
            "Epoch 9/100\n",
            "\u001b[1m859/859\u001b[0m \u001b[32m━━━━━━━━━━━━━━━━━━━━\u001b[0m\u001b[37m\u001b[0m \u001b[1m2s\u001b[0m 2ms/step - loss: 1.6187 - mae: 0.8172 - val_loss: 1.9734 - val_mae: 0.8332\n",
            "Epoch 10/100\n",
            "\u001b[1m859/859\u001b[0m \u001b[32m━━━━━━━━━━━━━━━━━━━━\u001b[0m\u001b[37m\u001b[0m \u001b[1m4s\u001b[0m 3ms/step - loss: 1.7403 - mae: 0.8233 - val_loss: 2.2454 - val_mae: 0.8360\n",
            "Epoch 11/100\n"
          ]
        }
      ]
    },
    {
      "cell_type": "code",
      "source": [
        "# 검증 데이터 로드\n",
        "valid_df = pd.read_csv(\"/content/drive/MyDrive/Epoch 공모전/2024_최종데이터.csv\")\n",
        "\n",
        "# 훈련 데이터에는 없던 열 제거\n",
        "valid_df.drop(['tm_dt'], axis=1, inplace=True)\n",
        "\n",
        "# X 분리\n",
        "X_valid = valid_df.drop(columns=['call_count'])  # 예측 대상 제외\n",
        "\n",
        "# 인코딩: 훈련과 동일하게 One-Hot\n",
        "X_valid = pd.get_dummies(X_valid)\n",
        "\n",
        "# 누락된 열 보완 및 순서 맞추기\n",
        "X_valid = X_valid.reindex(columns=X_train.columns, fill_value=0)\n",
        "\n",
        "# 정규화 (훈련 스케일러 재사용)\n",
        "X_valid_scaled = scaler.transform(X_valid)\n",
        "\n",
        "# 예측\n",
        "y_valid_pred = model.predict(X_valid_scaled)\n",
        "y_valid_pred = np.round(y_valid_pred).astype(int).flatten()\n",
        "\n",
        "# 예측값 덮어쓰기\n",
        "valid_df['call_count'] = y_valid_pred\n",
        "\n",
        "# 상위 결과 확인\n",
        "from IPython.display import display\n",
        "display(valid_df[['call_count']].head(10))"
      ],
      "metadata": {
        "id": "qoYGangdYD9Y"
      },
      "execution_count": null,
      "outputs": []
    },
    {
      "cell_type": "code",
      "source": [
        "result_df = pd.read_csv('/content/drive/MyDrive/Epoch 공모전/test_call119.csv', encoding='euc-kr')"
      ],
      "metadata": {
        "id": "L_2as19rYwkB"
      },
      "execution_count": null,
      "outputs": []
    },
    {
      "cell_type": "code",
      "source": [
        "result_df['call_count'] = valid_df['call_count']"
      ],
      "metadata": {
        "id": "1xPN4X_YZcBg"
      },
      "execution_count": null,
      "outputs": []
    },
    {
      "cell_type": "code",
      "source": [
        "result_df.head()"
      ],
      "metadata": {
        "id": "4MSx38b2Zdlg"
      },
      "execution_count": null,
      "outputs": []
    },
    {
      "cell_type": "code",
      "source": [
        "result_df.to_csv('/content/drive/MyDrive/Epoch 공모전/250028.csv', index=False, encoding='euc-kr')"
      ],
      "metadata": {
        "id": "Hc6GhNc7Zgl3"
      },
      "execution_count": null,
      "outputs": []
    },
    {
      "cell_type": "code",
      "source": [],
      "metadata": {
        "id": "w3xtp3ZTaCIY"
      },
      "execution_count": null,
      "outputs": []
    }
  ]
}