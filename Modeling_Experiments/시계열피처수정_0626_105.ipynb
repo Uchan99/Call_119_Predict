{
  "cells": [
    {
      "cell_type": "code",
      "execution_count": null,
      "metadata": {
        "colab": {
          "base_uri": "https://localhost:8080/"
        },
        "id": "tmqPr82QrpGE",
        "outputId": "7f511f58-01b1-4c27-dfae-02959c73faf2"
      },
      "outputs": [
        {
          "output_type": "stream",
          "name": "stdout",
          "text": [
            "Requirement already satisfied: scikit-learn==1.3.2 in /usr/local/lib/python3.11/dist-packages (1.3.2)\n",
            "Requirement already satisfied: xgboost==1.7.6 in /usr/local/lib/python3.11/dist-packages (1.7.6)\n",
            "Requirement already satisfied: koreanize_matplotlib in /usr/local/lib/python3.11/dist-packages (0.1.1)\n",
            "Requirement already satisfied: Optuna in /usr/local/lib/python3.11/dist-packages (4.4.0)\n",
            "Requirement already satisfied: numpy<2.0,>=1.17.3 in /usr/local/lib/python3.11/dist-packages (from scikit-learn==1.3.2) (1.26.4)\n",
            "Requirement already satisfied: scipy>=1.5.0 in /usr/local/lib/python3.11/dist-packages (from scikit-learn==1.3.2) (1.15.3)\n",
            "Requirement already satisfied: joblib>=1.1.1 in /usr/local/lib/python3.11/dist-packages (from scikit-learn==1.3.2) (1.5.1)\n",
            "Requirement already satisfied: threadpoolctl>=2.0.0 in /usr/local/lib/python3.11/dist-packages (from scikit-learn==1.3.2) (3.6.0)\n",
            "Requirement already satisfied: matplotlib in /usr/local/lib/python3.11/dist-packages (from koreanize_matplotlib) (3.10.0)\n",
            "Requirement already satisfied: alembic>=1.5.0 in /usr/local/lib/python3.11/dist-packages (from Optuna) (1.16.2)\n",
            "Requirement already satisfied: colorlog in /usr/local/lib/python3.11/dist-packages (from Optuna) (6.9.0)\n",
            "Requirement already satisfied: packaging>=20.0 in /usr/local/lib/python3.11/dist-packages (from Optuna) (24.2)\n",
            "Requirement already satisfied: sqlalchemy>=1.4.2 in /usr/local/lib/python3.11/dist-packages (from Optuna) (2.0.41)\n",
            "Requirement already satisfied: tqdm in /usr/local/lib/python3.11/dist-packages (from Optuna) (4.67.1)\n",
            "Requirement already satisfied: PyYAML in /usr/local/lib/python3.11/dist-packages (from Optuna) (6.0.2)\n",
            "Requirement already satisfied: Mako in /usr/lib/python3/dist-packages (from alembic>=1.5.0->Optuna) (1.1.3)\n",
            "Requirement already satisfied: typing-extensions>=4.12 in /usr/local/lib/python3.11/dist-packages (from alembic>=1.5.0->Optuna) (4.14.0)\n",
            "Requirement already satisfied: greenlet>=1 in /usr/local/lib/python3.11/dist-packages (from sqlalchemy>=1.4.2->Optuna) (3.2.3)\n",
            "Requirement already satisfied: contourpy>=1.0.1 in /usr/local/lib/python3.11/dist-packages (from matplotlib->koreanize_matplotlib) (1.3.2)\n",
            "Requirement already satisfied: cycler>=0.10 in /usr/local/lib/python3.11/dist-packages (from matplotlib->koreanize_matplotlib) (0.12.1)\n",
            "Requirement already satisfied: fonttools>=4.22.0 in /usr/local/lib/python3.11/dist-packages (from matplotlib->koreanize_matplotlib) (4.58.4)\n",
            "Requirement already satisfied: kiwisolver>=1.3.1 in /usr/local/lib/python3.11/dist-packages (from matplotlib->koreanize_matplotlib) (1.4.8)\n",
            "Requirement already satisfied: pillow>=8 in /usr/local/lib/python3.11/dist-packages (from matplotlib->koreanize_matplotlib) (11.2.1)\n",
            "Requirement already satisfied: pyparsing>=2.3.1 in /usr/local/lib/python3.11/dist-packages (from matplotlib->koreanize_matplotlib) (3.2.3)\n",
            "Requirement already satisfied: python-dateutil>=2.7 in /usr/local/lib/python3.11/dist-packages (from matplotlib->koreanize_matplotlib) (2.9.0.post0)\n",
            "Requirement already satisfied: six>=1.5 in /usr/local/lib/python3.11/dist-packages (from python-dateutil>=2.7->matplotlib->koreanize_matplotlib) (1.17.0)\n"
          ]
        }
      ],
      "source": [
        "!pip install -U scikit-learn==1.3.2 xgboost==1.7.6 koreanize_matplotlib Optuna koreanize_matplotlib"
      ]
    },
    {
      "cell_type": "code",
      "execution_count": null,
      "metadata": {
        "colab": {
          "base_uri": "https://localhost:8080/"
        },
        "id": "eDrnCWmkIti9",
        "outputId": "b72c13ac-912d-4cdc-892b-4cb3f76c3daa"
      },
      "outputs": [
        {
          "output_type": "stream",
          "name": "stdout",
          "text": [
            "Drive already mounted at /content/drive; to attempt to forcibly remount, call drive.mount(\"/content/drive\", force_remount=True).\n"
          ]
        }
      ],
      "source": [
        "from google.colab import drive\n",
        "drive.mount('/content/drive')"
      ]
    },
    {
      "cell_type": "code",
      "source": [
        "# --- [사전 준비] 필요한 라이브러리 임포트 ---\n",
        "import pandas as pd\n",
        "import numpy as np\n",
        "from sklearn.model_selection import train_test_split\n",
        "from sklearn.preprocessing import LabelEncoder\n",
        "from xgboost import XGBRegressor\n",
        "from sklearn.metrics import mean_squared_error\n",
        "from tqdm import tqdm\n",
        "import joblib\n",
        "import optuna\n",
        "from functools import partial\n",
        "\n",
        "# --- 1. 데이터 불러오기 및 기본 전처리 ---\n",
        "df = pd.read_csv('/content/drive/MyDrive/기상청/최종작업/2020_2023_최종데이터.csv')\n",
        "if 'tm_dt' in df.columns:\n",
        "    df.drop(columns=['tm_dt'], inplace=True)\n",
        "\n",
        "df['datetime'] = pd.to_datetime(df['tm'], format='%Y%m%d')\n",
        "df['year'] = df['datetime'].dt.year\n",
        "\n",
        "# --- 2. 5~10월만 필터링 ---\n",
        "df = df[df['datetime'].dt.month.isin([5,6,7,8,9,10])].copy()\n",
        "\n",
        "# --- 3. 누락된 날짜-동 조합을 0으로 채우기 ---\n",
        "dong_list = df[['address_gu', 'sub_address']].drop_duplicates()\n",
        "all_dates = pd.date_range(start='2020-05-01', end='2023-10-31')\n",
        "all_dates = all_dates[(all_dates.month >= 5) & (all_dates.month <= 10)]\n",
        "all_dates_int = all_dates.strftime('%Y%m%d').astype(int)\n",
        "\n",
        "full_index = pd.MultiIndex.from_product(\n",
        "    [all_dates_int, [dong for dong in map(tuple, dong_list.values)]],\n",
        "    names=['tm', 'gu_sub']\n",
        ")\n",
        "full_df = pd.DataFrame(index=full_index).reset_index()\n",
        "full_df[['address_gu', 'sub_address']] = pd.DataFrame(full_df['gu_sub'].tolist(), index=full_df.index)\n",
        "full_df.drop(columns='gu_sub', inplace=True)\n",
        "\n",
        "# 병합 및 call_count 결측치 처리\n",
        "df = full_df.merge(df, on=['tm', 'address_gu', 'sub_address'], how='left')\n",
        "df['call_count'] = df['call_count'].fillna(0)\n",
        "df['datetime'] = pd.to_datetime(df['tm'], format='%Y%m%d')\n",
        "\n",
        "# --- 4. 피처 생성 ---\n",
        "df['day'] = df['datetime'].dt.day\n",
        "df['weekday'] = df['datetime'].dt.weekday\n",
        "df['day_of_year'] = df['datetime'].dt.dayofyear\n",
        "df['is_weekend'] = df['weekday'].isin([5, 6]).astype(int)\n",
        "df['month_sin'] = np.sin(2 * np.pi * df['datetime'].dt.month / 12)\n",
        "df['month_cos'] = np.cos(2 * np.pi * df['datetime'].dt.month / 12)\n",
        "df['is_before_holiday'] = df['공휴일'].shift(-1, fill_value=0)\n",
        "df['is_after_holiday'] = df['공휴일'].shift(1, fill_value=0)\n",
        "\n",
        "# --- 5. 시계열 기반 피처 (동 단위만 유지) ---\n",
        "group_key = ['address_gu', 'sub_address']\n",
        "df['days_since_last_call_dong'] = df.groupby(group_key)['datetime'].diff().dt.days.fillna(0)\n",
        "df['dong_lag_1'] = df.groupby(group_key)['call_count'].shift(1)\n",
        "df['dong_lag_7'] = df.groupby(group_key)['call_count'].shift(7)\n",
        "df['dong_rolling_mean_7'] = df.groupby(group_key)['call_count'].shift(1).rolling(window=7, min_periods=1).mean()\n",
        "df['dong_rolling_std_7'] = df.groupby(group_key)['call_count'].shift(1).rolling(window=7, min_periods=1).std()\n",
        "\n",
        "lag_cols = ['dong_lag_1', 'dong_lag_7', 'dong_rolling_mean_7', 'dong_rolling_std_7']\n",
        "df[lag_cols] = df[lag_cols].fillna(0)\n",
        "\n",
        "# --- 6. 학습/검증 분할 ---\n",
        "df.sort_values(by='tm', inplace=True)\n",
        "y = df['call_count'].copy()\n",
        "X = df.drop(columns=['call_count'])\n",
        "X_train_full, X_val_full, y_train, y_val = train_test_split(X, y, test_size=0.2, random_state=42, shuffle=False)\n",
        "\n",
        "# --- 7. 인코딩 및 mean target encoding ---\n",
        "city_encoder = LabelEncoder()\n",
        "X_train_full['address_city'] = city_encoder.fit_transform(X_train_full['address_city'])\n",
        "X_val_full['address_city'] = city_encoder.transform(X_val_full['address_city'])\n",
        "\n",
        "gu_mean_map = y_train.groupby(X_train_full['address_gu']).mean()\n",
        "sub_address_mean_map = y_train.groupby(X_train_full['sub_address']).mean()\n",
        "overall_train_mean = y_train.mean()\n",
        "\n",
        "X_train_full['address_gu_mean_target'] = X_train_full['address_gu'].map(gu_mean_map)\n",
        "X_val_full['address_gu_mean_target'] = X_val_full['address_gu'].map(gu_mean_map).fillna(overall_train_mean)\n",
        "X_train_full['sub_address_mean_target'] = X_train_full['sub_address'].map(sub_address_mean_map)\n",
        "X_val_full['sub_address_mean_target'] = X_val_full['sub_address'].map(sub_address_mean_map).fillna(overall_train_mean)\n",
        "\n",
        "X_train_full.fillna(overall_train_mean, inplace=True)\n",
        "X_val_full.fillna(overall_train_mean, inplace=True)\n",
        "\n",
        "# --- 8. 학습용 피처 구성 ---\n",
        "gu_train = X_train_full['address_gu']\n",
        "gu_val = X_val_full['address_gu']\n",
        "\n",
        "X_train = X_train_full.drop(columns=['tm', 'datetime', 'address_gu', 'sub_address'])\n",
        "X_val = X_val_full.drop(columns=['tm', 'datetime', 'address_gu', 'sub_address'])\n",
        "model_columns = X_train.columns.tolist()\n",
        "\n",
        "X_train = X_train.astype('float32')\n",
        "X_val = X_val.astype('float32')\n",
        "y_train = y_train.astype('float32')\n",
        "y_val = y_val.astype('float32')\n",
        "\n",
        "# --- 9. Optuna 튜닝 함수 정의 ---\n",
        "def objective(trial, p_X_train, p_y_train, p_X_val, p_y_val, p_gu_train, p_gu_val):\n",
        "    params = {\n",
        "        'n_estimators': 1000,\n",
        "        'max_depth': trial.suggest_int('max_depth', 5, 12),\n",
        "        'learning_rate': trial.suggest_float('learning_rate', 0.01, 0.2, log=True),\n",
        "        'subsample': trial.suggest_float('subsample', 0.7, 1.0),\n",
        "        'colsample_bytree': trial.suggest_float('colsample_bytree', 0.7, 1.0),\n",
        "        'gamma': trial.suggest_float('gamma', 1e-8, 1.0, log=True),\n",
        "        'lambda': trial.suggest_float('lambda', 1e-8, 1.0, log=True),\n",
        "        'alpha': trial.suggest_float('alpha', 1e-8, 1.0, log=True),\n",
        "        'tree_method': 'hist',\n",
        "        'random_state': 42,\n",
        "        'early_stopping_rounds': 30\n",
        "    }\n",
        "    gu_models = {}\n",
        "    gu_list = p_gu_train.unique()\n",
        "\n",
        "    for gu in gu_list:\n",
        "        val_gu_indices = (p_gu_val == gu)\n",
        "        X_val_gu = p_X_val[val_gu_indices]\n",
        "        y_val_gu = p_y_val[val_gu_indices]\n",
        "        if len(X_val_gu) < 10:\n",
        "            continue\n",
        "        model = XGBRegressor(**params)\n",
        "        model.fit(p_X_train, p_y_train, eval_set=[(X_val_gu, y_val_gu)], verbose=False)\n",
        "        gu_models[gu] = model\n",
        "\n",
        "    all_preds, all_targets = [], []\n",
        "    for gu, model in gu_models.items():\n",
        "        val_gu_indices = (p_gu_val == gu)\n",
        "        if val_gu_indices.any():\n",
        "            y_pred_val = model.predict(p_X_val[val_gu_indices])\n",
        "            # y_pred_val = np.clip(y_pred_val*0.8, 1, 8)\n",
        "            all_preds.extend(y_pred_val)\n",
        "            all_targets.extend(p_y_val[val_gu_indices])\n",
        "\n",
        "    if not all_targets:\n",
        "        return float('inf')\n",
        "    return np.sqrt(mean_squared_error(all_targets, all_preds))\n",
        "\n",
        "# --- 10. Optuna 실행 ---\n",
        "print(\"\\nOptuna 하이퍼파라미터 튜닝 시작\")\n",
        "objective_with_data = partial(objective,\n",
        "                              p_X_train=X_train, p_y_train=y_train,\n",
        "                              p_X_val=X_val, p_y_val=y_val,\n",
        "                              p_gu_train=gu_train, p_gu_val=gu_val)\n",
        "study = optuna.create_study(direction='minimize')\n",
        "study.optimize(objective_with_data, n_trials=50)\n",
        "\n",
        "print(f\"\\n최적 RMSE: {study.best_value}\")\n",
        "print(f\"최적 파라미터: {study.best_params}\")\n",
        "\n",
        "# --- 11. 최종 모델 재학습 및 저장 ---\n",
        "best_params = study.best_params\n",
        "best_params['n_estimators'] = 1000\n",
        "best_params['early_stopping_rounds'] = 50\n",
        "best_params['random_state'] = 42\n",
        "best_params['tree_method'] = 'hist'\n",
        "\n",
        "final_gu_models = {}\n",
        "for gu in tqdm(gu_train.unique(), desc=\"최종 모델 학습 진행\"):\n",
        "    val_gu_indices = (gu_val == gu)\n",
        "    X_val_gu = X_val[val_gu_indices]\n",
        "    y_val_gu = y_val[val_gu_indices]\n",
        "    if len(X_val_gu) < 10:\n",
        "        continue\n",
        "    final_model = XGBRegressor(**best_params)\n",
        "    final_model.fit(X_train, y_train, eval_set=[(X_val_gu, y_val_gu)], verbose=False)\n",
        "    final_gu_models[gu] = final_model\n",
        "\n",
        "# --- 12. 모델 및 인코더 저장 ---\n",
        "joblib.dump(final_gu_models, 'final_gu_models.pkl')\n",
        "artifacts = {\n",
        "    'city_encoder': city_encoder,\n",
        "    'gu_mean_map': gu_mean_map,\n",
        "    'sub_address_mean_map': sub_address_mean_map,\n",
        "    'overall_train_mean': overall_train_mean,\n",
        "    'model_columns': model_columns\n",
        "}\n",
        "joblib.dump(artifacts, 'artifacts.pkl')\n",
        "\n",
        "print(\"\\n모델 및 관련 객체 저장 완료!\")"
      ],
      "metadata": {
        "colab": {
          "base_uri": "https://localhost:8080/"
        },
        "id": "pBRwzeztn3Hi",
        "outputId": "ab08a3b7-3ebf-4308-ef42-aa8594e553e7"
      },
      "execution_count": null,
      "outputs": [
        {
          "output_type": "stream",
          "name": "stderr",
          "text": [
            "[I 2025-06-26 12:05:13,297] A new study created in memory with name: no-name-f957af37-ab75-42a5-bb21-b2d3abe3658b\n"
          ]
        },
        {
          "output_type": "stream",
          "name": "stdout",
          "text": [
            "\n",
            "Optuna 하이퍼파라미터 튜닝 시작\n"
          ]
        },
        {
          "output_type": "stream",
          "name": "stderr",
          "text": [
            "[I 2025-06-26 12:08:15,746] Trial 0 finished with value: 1.0928098029561737 and parameters: {'max_depth': 10, 'learning_rate': 0.013593522615171195, 'subsample': 0.7366145847591572, 'colsample_bytree': 0.7703676172244431, 'gamma': 0.5367593239152673, 'lambda': 0.07774066959768582, 'alpha': 0.09471404072733583}. Best is trial 0 with value: 1.0928098029561737.\n",
            "[I 2025-06-26 12:09:34,561] Trial 1 finished with value: 1.0888002462380013 and parameters: {'max_depth': 6, 'learning_rate': 0.015180245250495463, 'subsample': 0.7767354843910429, 'colsample_bytree': 0.7030711658035882, 'gamma': 6.421497058416203e-07, 'lambda': 0.2702628155129274, 'alpha': 1.4400370380288282e-07}. Best is trial 1 with value: 1.0888002462380013.\n",
            "[I 2025-06-26 12:11:26,310] Trial 2 finished with value: 1.0923562567491558 and parameters: {'max_depth': 7, 'learning_rate': 0.011242389360810137, 'subsample': 0.8498904554411705, 'colsample_bytree': 0.7816897327822643, 'gamma': 0.0007988253552751845, 'lambda': 2.488777976954767e-05, 'alpha': 2.4058309128346282e-08}. Best is trial 1 with value: 1.0888002462380013.\n",
            "[I 2025-06-26 12:12:11,305] Trial 3 finished with value: 1.0892973018566483 and parameters: {'max_depth': 9, 'learning_rate': 0.10165628398974756, 'subsample': 0.9535553636320502, 'colsample_bytree': 0.9736757935082266, 'gamma': 0.13783402136453846, 'lambda': 0.47801757820736024, 'alpha': 0.013053909754917497}. Best is trial 1 with value: 1.0888002462380013.\n",
            "[I 2025-06-26 12:13:41,089] Trial 4 finished with value: 1.0917065550209566 and parameters: {'max_depth': 9, 'learning_rate': 0.02489479389845395, 'subsample': 0.820947457090659, 'colsample_bytree': 0.7486140079660564, 'gamma': 0.5004605894054573, 'lambda': 5.935101251735557e-07, 'alpha': 8.795873613865572e-07}. Best is trial 1 with value: 1.0888002462380013.\n",
            "[I 2025-06-26 12:14:37,626] Trial 5 finished with value: 1.092536982132149 and parameters: {'max_depth': 10, 'learning_rate': 0.09403513895261262, 'subsample': 0.9854677095784946, 'colsample_bytree': 0.747212097805357, 'gamma': 1.3623029220443209e-05, 'lambda': 2.6138679880964333e-08, 'alpha': 0.1893491491793879}. Best is trial 1 with value: 1.0888002462380013.\n",
            "[I 2025-06-26 12:16:40,288] Trial 6 finished with value: 1.0967267629984674 and parameters: {'max_depth': 10, 'learning_rate': 0.024820797257975008, 'subsample': 0.960985503646038, 'colsample_bytree': 0.8181103925680648, 'gamma': 0.02497296138794313, 'lambda': 8.302361235066768e-07, 'alpha': 8.025681621440144e-07}. Best is trial 1 with value: 1.0888002462380013.\n",
            "[I 2025-06-26 12:18:13,302] Trial 7 finished with value: 1.0935833654266183 and parameters: {'max_depth': 9, 'learning_rate': 0.026281707700863657, 'subsample': 0.7812140239146412, 'colsample_bytree': 0.9128531569983402, 'gamma': 2.0779598058118054e-07, 'lambda': 5.556701376571323e-08, 'alpha': 3.845489048827835e-08}. Best is trial 1 with value: 1.0888002462380013.\n",
            "[I 2025-06-26 12:18:31,333] Trial 8 finished with value: 1.1050975313608864 and parameters: {'max_depth': 6, 'learning_rate': 0.13833410159032788, 'subsample': 0.7345542482186282, 'colsample_bytree': 0.715400057426977, 'gamma': 1.6773567448455744e-06, 'lambda': 1.9580709331081067e-08, 'alpha': 0.006435312043376319}. Best is trial 1 with value: 1.0888002462380013.\n",
            "[I 2025-06-26 12:18:48,765] Trial 9 finished with value: 1.0965979534044477 and parameters: {'max_depth': 5, 'learning_rate': 0.18464620156828157, 'subsample': 0.8897127078479572, 'colsample_bytree': 0.8981947414215649, 'gamma': 1.5067689473207804e-08, 'lambda': 0.5719754571835493, 'alpha': 4.99190299036762e-06}. Best is trial 1 with value: 1.0888002462380013.\n",
            "[I 2025-06-26 12:20:45,493] Trial 10 finished with value: 1.0962159399172058 and parameters: {'max_depth': 12, 'learning_rate': 0.05168042060486165, 'subsample': 0.7007768569431564, 'colsample_bytree': 0.7010567901586975, 'gamma': 0.00010964324325645744, 'lambda': 0.0022748137024690305, 'alpha': 0.00013355684291496188}. Best is trial 1 with value: 1.0888002462380013.\n",
            "[I 2025-06-26 12:21:21,568] Trial 11 finished with value: 1.0912543192391642 and parameters: {'max_depth': 7, 'learning_rate': 0.06728249967511854, 'subsample': 0.9191582751056826, 'colsample_bytree': 0.9869902335076917, 'gamma': 0.0006022102512308662, 'lambda': 0.010146883301042213, 'alpha': 0.0007792592202268045}. Best is trial 1 with value: 1.0888002462380013.\n",
            "[I 2025-06-26 12:21:55,034] Trial 12 finished with value: 1.0931366628720516 and parameters: {'max_depth': 7, 'learning_rate': 0.08928020301918994, 'subsample': 0.8095455354733243, 'colsample_bytree': 0.9955073759673494, 'gamma': 0.012975940661877456, 'lambda': 0.60355212343307, 'alpha': 0.00574703372556376}. Best is trial 1 with value: 1.0888002462380013.\n",
            "[I 2025-06-26 12:24:34,358] Trial 13 finished with value: 1.0956931894247717 and parameters: {'max_depth': 12, 'learning_rate': 0.04106553473917556, 'subsample': 0.9111720219815417, 'colsample_bytree': 0.8711750918834138, 'gamma': 1.6599161058063795e-06, 'lambda': 0.0006486995098396746, 'alpha': 1.93450289049575e-05}. Best is trial 1 with value: 1.0888002462380013.\n",
            "[I 2025-06-26 12:25:33,902] Trial 14 finished with value: 1.0949351115004924 and parameters: {'max_depth': 5, 'learning_rate': 0.01618761569502647, 'subsample': 0.8699677287565556, 'colsample_bytree': 0.9454858083619517, 'gamma': 2.6996551837202137e-08, 'lambda': 0.038377025907394564, 'alpha': 0.8174798690391907}. Best is trial 1 with value: 1.0888002462380013.\n",
            "[I 2025-06-26 12:26:36,147] Trial 15 finished with value: 1.0910776928100119 and parameters: {'max_depth': 8, 'learning_rate': 0.034514909173849154, 'subsample': 0.9454025540761926, 'colsample_bytree': 0.8295548890549316, 'gamma': 0.019647342879871528, 'lambda': 4.725243792740893e-05, 'alpha': 0.0025100116448255735}. Best is trial 1 with value: 1.0888002462380013.\n",
            "[I 2025-06-26 12:27:10,704] Trial 16 finished with value: 1.0860512010210555 and parameters: {'max_depth': 8, 'learning_rate': 0.1122466987308222, 'subsample': 0.7845597837952842, 'colsample_bytree': 0.9472258539403647, 'gamma': 1.1272554293681609e-05, 'lambda': 0.08464305357003238, 'alpha': 4.773426143091464e-05}. Best is trial 16 with value: 1.0860512010210555.\n",
            "[I 2025-06-26 12:27:39,918] Trial 17 finished with value: 1.0933026233612924 and parameters: {'max_depth': 6, 'learning_rate': 0.06396669728566579, 'subsample': 0.7766695453210083, 'colsample_bytree': 0.9347940253886976, 'gamma': 8.159287846630105e-06, 'lambda': 0.00039269135074574194, 'alpha': 2.2497202659344486e-07}. Best is trial 16 with value: 1.0860512010210555.\n",
            "[I 2025-06-26 12:29:18,355] Trial 18 finished with value: 1.0917516924901218 and parameters: {'max_depth': 8, 'learning_rate': 0.01791721319623402, 'subsample': 0.7715145638655359, 'colsample_bytree': 0.8622914389115982, 'gamma': 1.5373593356727127e-07, 'lambda': 0.02723086677706871, 'alpha': 3.266429870103282e-05}. Best is trial 16 with value: 1.0860512010210555.\n",
            "[I 2025-06-26 12:29:36,771] Trial 19 finished with value: 1.095538848332864 and parameters: {'max_depth': 6, 'learning_rate': 0.17284479007730763, 'subsample': 0.8295218813644014, 'colsample_bytree': 0.8107571757073849, 'gamma': 3.1115842811578783e-05, 'lambda': 0.002598518444432881, 'alpha': 0.00033675060686770043}. Best is trial 16 with value: 1.0860512010210555.\n",
            "[I 2025-06-26 12:30:06,950] Trial 20 finished with value: 1.0976512776122354 and parameters: {'max_depth': 8, 'learning_rate': 0.12383910006788393, 'subsample': 0.7361120025783356, 'colsample_bytree': 0.8862049044048919, 'gamma': 1.1380045058759294e-06, 'lambda': 0.08489538788313969, 'alpha': 6.1586121913152035e-06}. Best is trial 16 with value: 1.0860512010210555.\n",
            "[I 2025-06-26 12:31:22,782] Trial 21 finished with value: 1.0908264995946821 and parameters: {'max_depth': 11, 'learning_rate': 0.10403870251567968, 'subsample': 0.8023989802061279, 'colsample_bytree': 0.9619701987104544, 'gamma': 0.00020891565593243332, 'lambda': 0.48400122370335463, 'alpha': 0.03015118590981224}. Best is trial 16 with value: 1.0860512010210555.\n",
            "[I 2025-06-26 12:32:13,452] Trial 22 finished with value: 1.0936864223680423 and parameters: {'max_depth': 9, 'learning_rate': 0.07200758478530608, 'subsample': 0.7617265341498265, 'colsample_bytree': 0.9655340490103541, 'gamma': 0.002648177566875106, 'lambda': 0.14766370281106508, 'alpha': 1.5318361601509803e-07}. Best is trial 16 with value: 1.0860512010210555.\n",
            "[I 2025-06-26 12:32:38,305] Trial 23 finished with value: 1.094155602790163 and parameters: {'max_depth': 7, 'learning_rate': 0.13753245924742247, 'subsample': 0.8489337910561913, 'colsample_bytree': 0.9214397255408924, 'gamma': 8.959860238081633e-08, 'lambda': 0.012798712462916379, 'alpha': 5.1731612087918046e-05}. Best is trial 16 with value: 1.0860512010210555.\n",
            "[I 2025-06-26 12:33:29,244] Trial 24 finished with value: 1.0911335549933665 and parameters: {'max_depth': 8, 'learning_rate': 0.04880795505264823, 'subsample': 0.7983976295539146, 'colsample_bytree': 0.9701954430674534, 'gamma': 8.683591767818473e-06, 'lambda': 0.19393817893698245, 'alpha': 0.0007152027411689227}. Best is trial 16 with value: 1.0860512010210555.\n",
            "[I 2025-06-26 12:34:50,878] Trial 25 finished with value: 1.0939175408526658 and parameters: {'max_depth': 9, 'learning_rate': 0.03347388886587373, 'subsample': 0.9991478788934587, 'colsample_bytree': 0.9520716218733937, 'gamma': 0.12237536609953521, 'lambda': 0.004019888084722869, 'alpha': 0.019151192054185688}. Best is trial 16 with value: 1.0860512010210555.\n",
            "[I 2025-06-26 12:40:16,836] Trial 26 finished with value: 1.0911543651305187 and parameters: {'max_depth': 11, 'learning_rate': 0.010013351139499879, 'subsample': 0.711555239683892, 'colsample_bytree': 0.8489428718424434, 'gamma': 3.9416628219839285e-07, 'lambda': 0.890039758920504, 'alpha': 3.4598839334778136e-06}. Best is trial 16 with value: 1.0860512010210555.\n",
            "[I 2025-06-26 12:40:44,350] Trial 27 finished with value: 1.0935939929374088 and parameters: {'max_depth': 6, 'learning_rate': 0.07889993164754025, 'subsample': 0.8787251755449623, 'colsample_bytree': 0.9268849824148575, 'gamma': 2.473952678340593e-05, 'lambda': 0.19666410299435264, 'alpha': 1.1984706540726841e-08}. Best is trial 16 with value: 1.0860512010210555.\n",
            "[I 2025-06-26 12:41:06,722] Trial 28 finished with value: 1.093770804220054 and parameters: {'max_depth': 5, 'learning_rate': 0.11369549178775745, 'subsample': 0.756874764942437, 'colsample_bytree': 0.9819551767940818, 'gamma': 3.55553663832343e-06, 'lambda': 1.0151844134610176e-05, 'alpha': 0.0001647782564061225}. Best is trial 16 with value: 1.0860512010210555.\n",
            "[I 2025-06-26 12:42:16,677] Trial 29 finished with value: 1.0899576500332775 and parameters: {'max_depth': 10, 'learning_rate': 0.05796899486243926, 'subsample': 0.8356109807778052, 'colsample_bytree': 0.7891710228077494, 'gamma': 0.003081572732545505, 'lambda': 0.037261195919202114, 'alpha': 0.10039559502114816}. Best is trial 16 with value: 1.0860512010210555.\n",
            "[I 2025-06-26 12:45:11,051] Trial 30 finished with value: 1.093136197149203 and parameters: {'max_depth': 11, 'learning_rate': 0.01888637256051442, 'subsample': 0.7498964756134641, 'colsample_bytree': 0.9010560431388724, 'gamma': 0.49355414380717005, 'lambda': 0.0002789184759918505, 'alpha': 1.9930538132588547e-07}. Best is trial 16 with value: 1.0860512010210555.\n",
            "[I 2025-06-26 12:46:21,954] Trial 31 finished with value: 1.0910706486698818 and parameters: {'max_depth': 10, 'learning_rate': 0.05953351794745963, 'subsample': 0.8399809739165175, 'colsample_bytree': 0.786645240096959, 'gamma': 0.09144266211015882, 'lambda': 0.042469816732823844, 'alpha': 0.11488016615408964}. Best is trial 16 with value: 1.0860512010210555.\n",
            "[I 2025-06-26 12:47:08,821] Trial 32 finished with value: 1.0990768031837481 and parameters: {'max_depth': 10, 'learning_rate': 0.15676013755226104, 'subsample': 0.7939912069690391, 'colsample_bytree': 0.7667793394579264, 'gamma': 0.0026719903995812504, 'lambda': 0.11889444328085574, 'alpha': 0.45042259819018104}. Best is trial 16 with value: 1.0860512010210555.\n",
            "[I 2025-06-26 12:49:42,044] Trial 33 finished with value: 1.0916135341369668 and parameters: {'max_depth': 9, 'learning_rate': 0.013278922864723614, 'subsample': 0.8624414778895609, 'colsample_bytree': 0.7311557879058812, 'gamma': 0.0033102137773344574, 'lambda': 0.014065776214474811, 'alpha': 0.029148799691263445}. Best is trial 16 with value: 1.0860512010210555.\n",
            "[I 2025-06-26 12:51:03,954] Trial 34 finished with value: 1.0969625213769705 and parameters: {'max_depth': 11, 'learning_rate': 0.08255173764243273, 'subsample': 0.8200979500724054, 'colsample_bytree': 0.7778405415570031, 'gamma': 0.000495950965414386, 'lambda': 0.22237754672408552, 'alpha': 0.08522520728458294}. Best is trial 16 with value: 1.0860512010210555.\n",
            "[I 2025-06-26 12:51:48,280] Trial 35 finished with value: 1.0939647268438693 and parameters: {'max_depth': 9, 'learning_rate': 0.10123753208472758, 'subsample': 0.9029752908179256, 'colsample_bytree': 0.7960766134808733, 'gamma': 6.393792729910383e-05, 'lambda': 5.975808153855536e-06, 'alpha': 0.0014312877271407416}. Best is trial 16 with value: 1.0860512010210555.\n",
            "[I 2025-06-26 12:53:19,648] Trial 36 finished with value: 1.0899280555752926 and parameters: {'max_depth': 10, 'learning_rate': 0.04121365037938808, 'subsample': 0.9433938280387802, 'colsample_bytree': 0.7287990237905043, 'gamma': 0.1056329708344428, 'lambda': 0.06327571208527383, 'alpha': 0.0066595214251593485}. Best is trial 16 with value: 1.0860512010210555.\n",
            "[I 2025-06-26 12:54:31,811] Trial 37 finished with value: 1.094228484967324 and parameters: {'max_depth': 8, 'learning_rate': 0.023726883691537085, 'subsample': 0.9661182318145655, 'colsample_bytree': 0.7554699098840589, 'gamma': 0.12813892119895162, 'lambda': 0.005750370927133476, 'alpha': 0.009410813299282849}. Best is trial 16 with value: 1.0860512010210555.\n",
            "[I 2025-06-26 12:55:56,748] Trial 38 finished with value: 1.0918403238582224 and parameters: {'max_depth': 10, 'learning_rate': 0.03786869558623001, 'subsample': 0.9402056801564602, 'colsample_bytree': 0.7374461301914451, 'gamma': 0.43940377409654086, 'lambda': 0.0009951296528367096, 'alpha': 1.3230507987033903e-06}. Best is trial 16 with value: 1.0860512010210555.\n",
            "[I 2025-06-26 12:57:34,795] Trial 39 finished with value: 1.0921046674738053 and parameters: {'max_depth': 7, 'learning_rate': 0.013832191713574396, 'subsample': 0.9772263727187135, 'colsample_bytree': 0.7171134106851688, 'gamma': 4.957745545843121e-07, 'lambda': 0.3595163026111262, 'alpha': 1.3697624956685018e-05}. Best is trial 16 with value: 1.0860512010210555.\n",
            "[I 2025-06-26 12:58:26,925] Trial 40 finished with value: 1.0892819744600188 and parameters: {'max_depth': 7, 'learning_rate': 0.03142353451263248, 'subsample': 0.9310918145032827, 'colsample_bytree': 0.7000806088495749, 'gamma': 4.047930903360523e-06, 'lambda': 1.5644647158667118e-07, 'alpha': 6.724978678800371e-08}. Best is trial 16 with value: 1.0860512010210555.\n",
            "[I 2025-06-26 12:59:21,488] Trial 41 finished with value: 1.0879176100695236 and parameters: {'max_depth': 7, 'learning_rate': 0.03055813994252083, 'subsample': 0.9275046081749825, 'colsample_bytree': 0.7016864818750818, 'gamma': 4.372398114857293e-06, 'lambda': 1.8032283394449753e-07, 'alpha': 5.636986930626076e-08}. Best is trial 16 with value: 1.0860512010210555.\n",
            "[I 2025-06-26 13:00:18,715] Trial 42 finished with value: 1.0896131083197251 and parameters: {'max_depth': 7, 'learning_rate': 0.026730812488534105, 'subsample': 0.9179323970541797, 'colsample_bytree': 0.7018411048377605, 'gamma': 3.2930761121757776e-06, 'lambda': 1.38543396625618e-07, 'alpha': 3.8819977599925645e-08}. Best is trial 16 with value: 1.0860512010210555.\n",
            "[I 2025-06-26 13:01:15,743] Trial 43 finished with value: 1.0905872065062427 and parameters: {'max_depth': 7, 'learning_rate': 0.030547390680616585, 'subsample': 0.9327266681495121, 'colsample_bytree': 0.7190803104587971, 'gamma': 7.458145186541894e-07, 'lambda': 6.872004191792904e-07, 'alpha': 5.1896100152770316e-08}. Best is trial 16 with value: 1.0860512010210555.\n",
            "[I 2025-06-26 13:02:12,855] Trial 44 finished with value: 1.090831168619195 and parameters: {'max_depth': 6, 'learning_rate': 0.021850222954680105, 'subsample': 0.8933680343662164, 'colsample_bytree': 0.7551978001267193, 'gamma': 3.520078149966903e-06, 'lambda': 2.47560573780341e-07, 'alpha': 4.783793312185616e-07}. Best is trial 16 with value: 1.0860512010210555.\n",
            "[I 2025-06-26 13:03:24,466] Trial 45 finished with value: 1.0927910023352825 and parameters: {'max_depth': 7, 'learning_rate': 0.02067324572504716, 'subsample': 0.9687649128987397, 'colsample_bytree': 0.7015186339043818, 'gamma': 6.400260734821736e-08, 'lambda': 1.529857021276367e-08, 'alpha': 8.15501787563815e-08}. Best is trial 16 with value: 1.0860512010210555.\n",
            "[I 2025-06-26 13:03:57,893] Trial 46 finished with value: 1.0933112899172228 and parameters: {'max_depth': 6, 'learning_rate': 0.0514183800747971, 'subsample': 0.9273071563348765, 'colsample_bytree': 0.9994195009955141, 'gamma': 1.7528837080238132e-05, 'lambda': 2.1224845544881854e-06, 'alpha': 1.1505439228061244e-08}. Best is trial 16 with value: 1.0860512010210555.\n",
            "[I 2025-06-26 13:05:02,562] Trial 47 finished with value: 1.0899406987824871 and parameters: {'max_depth': 8, 'learning_rate': 0.030695361695488466, 'subsample': 0.9920634641614914, 'colsample_bytree': 0.7476324734945966, 'gamma': 4.171022281936244e-05, 'lambda': 4.183184409053046e-08, 'alpha': 1.9291324262226074e-06}. Best is trial 16 with value: 1.0860512010210555.\n",
            "[I 2025-06-26 13:06:22,562] Trial 48 finished with value: 1.092447725822509 and parameters: {'max_depth': 5, 'learning_rate': 0.013149495622303073, 'subsample': 0.9523349133351818, 'colsample_bytree': 0.7119107993204878, 'gamma': 6.5135847783680395e-06, 'lambda': 1.5916362116408684e-06, 'alpha': 2.2900367835849294e-08}. Best is trial 16 with value: 1.0860512010210555.\n",
            "[I 2025-06-26 13:08:09,356] Trial 49 finished with value: 1.0939715866618855 and parameters: {'max_depth': 8, 'learning_rate': 0.015782334638158545, 'subsample': 0.7233233353753894, 'colsample_bytree': 0.7375520146088022, 'gamma': 0.00028470940015050064, 'lambda': 1.012158619601063e-07, 'alpha': 8.168403250526789e-08}. Best is trial 16 with value: 1.0860512010210555.\n"
          ]
        },
        {
          "output_type": "stream",
          "name": "stdout",
          "text": [
            "\n",
            "최적 RMSE: 1.0860512010210555\n",
            "최적 파라미터: {'max_depth': 8, 'learning_rate': 0.1122466987308222, 'subsample': 0.7845597837952842, 'colsample_bytree': 0.9472258539403647, 'gamma': 1.1272554293681609e-05, 'lambda': 0.08464305357003238, 'alpha': 4.773426143091464e-05}\n"
          ]
        },
        {
          "output_type": "stream",
          "name": "stderr",
          "text": [
            "최종 모델 학습 진행: 100%|██████████| 16/16 [00:41<00:00,  2.59s/it]"
          ]
        },
        {
          "output_type": "stream",
          "name": "stdout",
          "text": [
            "\n",
            "모델 및 관련 객체 저장 완료!\n"
          ]
        },
        {
          "output_type": "stream",
          "name": "stderr",
          "text": [
            "\n"
          ]
        }
      ]
    },
    {
      "cell_type": "code",
      "source": [
        "from sklearn.metrics import r2_score\n",
        "\n",
        "all_preds_r2, all_targets_r2 = [], []\n",
        "for gu, model in final_gu_models.items():\n",
        "    val_gu_indices = (gu_val == gu)\n",
        "    if val_gu_indices.any():\n",
        "        y_pred_val = model.predict(X_val[val_gu_indices])\n",
        "        # y_pred_val = np.clip(y_pred_val, 1, 16)\n",
        "        all_preds_r2.extend(y_pred_val)\n",
        "        all_targets_r2.extend(y_val[val_gu_indices])\n",
        "\n",
        "r2 = r2_score(all_targets_r2, all_preds_r2)\n",
        "print(f\"✅ 전체 검증 데이터에 대한 R² Score: {r2:.4f}\")"
      ],
      "metadata": {
        "colab": {
          "base_uri": "https://localhost:8080/"
        },
        "id": "UuB1aF-Pgvgc",
        "outputId": "dfc60958-02f1-4203-9feb-f86b586e747b"
      },
      "execution_count": null,
      "outputs": [
        {
          "output_type": "stream",
          "name": "stdout",
          "text": [
            "✅ 전체 검증 데이터에 대한 R² Score: 0.3448\n"
          ]
        }
      ]
    },
    {
      "cell_type": "code",
      "source": [
        "import seaborn as sns\n",
        "import matplotlib.pyplot as plt\n",
        "import koreanize_matplotlib\n",
        "\n",
        "plt.figure(figsize=(40,40))\n",
        "sns.heatmap(X_train.corr(), cmap='coolwarm', annot=True)"
      ],
      "metadata": {
        "id": "6lVbwRY0rD4G"
      },
      "execution_count": null,
      "outputs": []
    },
    {
      "cell_type": "code",
      "source": [
        "import matplotlib.pyplot as plt\n",
        "import seaborn as sns\n",
        "\n",
        "# --- 최종 모델 예측 수행 ---\n",
        "all_preds, all_targets = [], []\n",
        "\n",
        "for gu, model in final_gu_models.items():\n",
        "    val_gu_indices = (gu_val == gu)\n",
        "    if val_gu_indices.any():\n",
        "        X_val_gu = X_val[val_gu_indices]\n",
        "        y_val_gu = y_val[val_gu_indices]\n",
        "        y_pred_gu = model.predict(X_val_gu)\n",
        "\n",
        "        all_preds.extend(y_pred_gu)\n",
        "        all_targets.extend(y_val_gu)\n",
        "\n",
        "# --- 시각화 준비 ---\n",
        "all_preds = np.array(all_preds)\n",
        "all_targets = np.array(all_targets)\n",
        "\n",
        "# --- 히스토그램 + KDE (확률 밀도 함수)\n",
        "plt.figure(figsize=(10, 6))\n",
        "sns.histplot(all_targets, color='blue', label='Actual', kde=True, stat='density', bins=30)\n",
        "sns.histplot(all_preds, color='red', label='Predicted', kde=True, stat='density', bins=30)\n",
        "plt.title('분포 비교: 실제 값 vs 예측 값')\n",
        "plt.xlabel('call_count')\n",
        "plt.ylabel('Density')\n",
        "plt.legend()\n",
        "plt.grid(True)\n",
        "plt.show()\n"
      ],
      "metadata": {
        "id": "FFXqiIGUJzps"
      },
      "execution_count": null,
      "outputs": []
    },
    {
      "cell_type": "code",
      "source": [
        "# --- [사전 준비] 필요한 라이브러리 임포트 ---\n",
        "import pandas as pd\n",
        "import numpy as np\n",
        "from tqdm import tqdm\n",
        "import joblib\n",
        "from xgboost import XGBRegressor\n",
        "\n",
        "# 1. Load model and artifacts\n",
        "final_gu_models = joblib.load('final_gu_models.pkl')\n",
        "artifacts = joblib.load('artifacts.pkl')\n",
        "city_encoder = artifacts['city_encoder']\n",
        "gu_mean_map = artifacts['gu_mean_map']\n",
        "sub_address_mean_map = artifacts['sub_address_mean_map']\n",
        "overall_train_mean = artifacts['overall_train_mean']\n",
        "model_columns = artifacts['model_columns']\n",
        "\n",
        "# 2. Load and merge train + test data\n",
        "train_df = pd.read_csv('/content/drive/MyDrive/기상청/최종작업/2020_2023_최종데이터.csv')\n",
        "test_df = pd.read_csv('/content/drive/MyDrive/기상청/최종작업/2024_최종데이터.csv')\n",
        "test_df['call_count'] = np.nan\n",
        "combined_df = pd.concat([train_df, test_df], ignore_index=True)\n",
        "combined_df.sort_values(by=['address_gu', 'sub_address', 'tm'], inplace=True)\n",
        "combined_df['datetime'] = pd.to_datetime(combined_df['tm'], format='%Y%m%d')\n",
        "\n",
        "# 3. Feature engineering\n",
        "# --- [수정 1] 'year' 피처 생성 코드 추가 ---\n",
        "combined_df['year'] = combined_df['datetime'].dt.year\n",
        "\n",
        "combined_df['day'] = combined_df['datetime'].dt.day\n",
        "combined_df['weekday'] = combined_df['datetime'].dt.weekday\n",
        "combined_df['day_of_year'] = combined_df['datetime'].dt.dayofyear\n",
        "combined_df['is_weekend'] = combined_df['weekday'].isin([5, 6]).astype(int)\n",
        "combined_df['month_sin'] = np.sin(2 * np.pi * combined_df['datetime'].dt.month / 12)\n",
        "combined_df['month_cos'] = np.cos(2 * np.pi * combined_df['datetime'].dt.month / 12)\n",
        "combined_df['is_before_holiday'] = combined_df['공휴일'].shift(-1, fill_value=0)\n",
        "combined_df['is_after_holiday'] = combined_df['공휴일'].shift(1, fill_value=0)\n",
        "\n",
        "# --- [수정 2] 'days_since_last_call_dong' 피처 생성 코드 추가 ---\n",
        "group_key = ['address_gu', 'sub_address']\n",
        "combined_df['days_since_last_call_dong'] = combined_df.groupby(group_key)['datetime'].diff().dt.days.fillna(0)\n",
        "\n",
        "combined_df['address_city'] = combined_df['address_city'].map(\n",
        "    lambda s: s if s in city_encoder.classes_ else city_encoder.classes_[0]\n",
        ")\n",
        "combined_df['address_city'] = city_encoder.transform(combined_df['address_city'])\n",
        "combined_df['address_gu_mean_target'] = combined_df['address_gu'].map(gu_mean_map).fillna(overall_train_mean)\n",
        "combined_df['sub_address_mean_target'] = combined_df['sub_address'].map(sub_address_mean_map).fillna(overall_train_mean)\n",
        "\n",
        "# 4. Predict iteratively with lag features updated in-place\n",
        "group_key = ['address_gu', 'sub_address']\n",
        "pred_df = combined_df[combined_df['tm'] >= 20240101].copy()\n",
        "\n",
        "# --- [수정 3] 초기 lag 피처를 Null 값으로 생성 (반복문 내에서 채워짐) ---\n",
        "# 이 피처들은 반복적으로 업데이트되므로 초기에 생성해두는 것이 명확합니다.\n",
        "lag_cols = ['dong_lag_1', 'dong_lag_7', 'dong_rolling_mean_7', 'dong_rolling_std_7']\n",
        "for col in lag_cols:\n",
        "    pred_df[col] = np.nan\n",
        "\n",
        "pred_df['predicted_call_count'] = 0.0\n",
        "\n",
        "for idx in tqdm(pred_df.index, desc=\"시계열 순차 예측\"):\n",
        "    gu = pred_df.loc[idx, 'address_gu']\n",
        "    sub = pred_df.loc[idx, 'sub_address']\n",
        "    tm = pred_df.loc[idx, 'tm']\n",
        "\n",
        "    # --- ✅ history_calls 정의 ---\n",
        "    history = combined_df[\n",
        "        (combined_df['address_gu'] == gu) &\n",
        "        (combined_df['sub_address'] == sub) &\n",
        "        (combined_df['tm'] < tm)\n",
        "    ].sort_values(by='tm')\n",
        "    history_calls = history['call_count'].values\n",
        "\n",
        "    # lag 피처 계산\n",
        "    last_1 = history_calls[-1] if len(history_calls) >= 1 else 0\n",
        "    last_7_window = history_calls[-7:] if len(history_calls) >= 7 else np.pad(history_calls, (7 - len(history_calls), 0))\n",
        "    rolling_mean = np.mean(last_7_window)\n",
        "    rolling_std = np.std(last_7_window)\n",
        "    pred_df.loc[idx, 'dong_lag_1'] = last_1\n",
        "    pred_df.loc[idx, 'dong_lag_7'] = last_7_window[0]\n",
        "    pred_df.loc[idx, 'dong_rolling_mean_7'] = rolling_mean\n",
        "    pred_df.loc[idx, 'dong_rolling_std_7'] = rolling_std\n",
        "\n",
        "    # 입력 데이터 전처리 및 예측\n",
        "    x_input_series = pred_df.loc[idx, model_columns]\n",
        "    x_input_series_filled = pd.to_numeric(x_input_series, errors='coerce').fillna(0)\n",
        "    x_input = x_input_series_filled.astype('float32').values.reshape(1, -1)\n",
        "\n",
        "    if gu in final_gu_models:\n",
        "        pred = final_gu_models[gu].predict(x_input)[0]\n",
        "        final_pred = np.clip(round(pred * 0.8), 1, 6)\n",
        "    else:\n",
        "        pred = pred_df.loc[idx, 'address_gu_mean_target']\n",
        "        final_pred = np.clip(round(pred * 0.8), 1, 6)\n",
        "\n",
        "    pred_df.loc[idx, 'predicted_call_count'] = final_pred\n",
        "    combined_df.loc[idx, 'call_count'] = final_pred\n",
        "\n",
        "# 5. Merge with submission template (이하 동일)\n",
        "submission_template = pd.read_csv('/content/drive/MyDrive/기상청/최종작업/test_call119.csv', encoding='euc-kr')\n",
        "result_df = pred_df[['tm', 'address_city', 'address_gu', 'sub_address', 'predicted_call_count']].copy()\n",
        "result_df.rename(columns={'tm': 'TM'}, inplace=True)\n",
        "\n",
        "submission_template['address_city'] = submission_template['address_city'].map(\n",
        "    lambda s: s if s in city_encoder.classes_ else city_encoder.classes_[0]\n",
        ")\n",
        "submission_template['address_city'] = city_encoder.transform(submission_template['address_city'])\n",
        "\n",
        "submission = pd.merge(\n",
        "    submission_template.drop(columns=['call_count'], errors='ignore'),\n",
        "    result_df,\n",
        "    on=['TM', 'address_city', 'address_gu', 'sub_address'],\n",
        "    how='left'\n",
        ")\n",
        "\n",
        "submission['call_count'] = submission['predicted_call_count'].astype(int)\n",
        "submission.drop(columns=['predicted_call_count'], inplace=True)\n",
        "submission.to_csv('250028.csv', index=False, encoding='euc-kr')\n",
        "print(\"\\n✅ 제출 파일 저장 완료: 250028.csv\")"
      ],
      "metadata": {
        "colab": {
          "base_uri": "https://localhost:8080/"
        },
        "id": "huC4vLcNhD_d",
        "outputId": "617dee5f-f427-478a-f1e8-32b7cd68c348"
      },
      "execution_count": null,
      "outputs": [
        {
          "output_type": "stream",
          "name": "stderr",
          "text": [
            "시계열 순차 예측: 100%|██████████| 9601/9601 [02:52<00:00, 55.55it/s]\n"
          ]
        },
        {
          "output_type": "stream",
          "name": "stdout",
          "text": [
            "\n",
            "✅ 제출 파일 저장 완료: 250028.csv\n"
          ]
        }
      ]
    },
    {
      "cell_type": "code",
      "source": [
        "submission['call_count'].value_counts()"
      ],
      "metadata": {
        "colab": {
          "base_uri": "https://localhost:8080/",
          "height": 303
        },
        "id": "19U09Z1fhEp7",
        "outputId": "9c2b6cc0-5ec4-4717-b325-018953ce87d2"
      },
      "execution_count": null,
      "outputs": [
        {
          "output_type": "execute_result",
          "data": {
            "text/plain": [
              "call_count\n",
              "1    6332\n",
              "2    2561\n",
              "3     473\n",
              "6     189\n",
              "4      37\n",
              "5       9\n",
              "Name: count, dtype: int64"
            ],
            "text/html": [
              "<div>\n",
              "<style scoped>\n",
              "    .dataframe tbody tr th:only-of-type {\n",
              "        vertical-align: middle;\n",
              "    }\n",
              "\n",
              "    .dataframe tbody tr th {\n",
              "        vertical-align: top;\n",
              "    }\n",
              "\n",
              "    .dataframe thead th {\n",
              "        text-align: right;\n",
              "    }\n",
              "</style>\n",
              "<table border=\"1\" class=\"dataframe\">\n",
              "  <thead>\n",
              "    <tr style=\"text-align: right;\">\n",
              "      <th></th>\n",
              "      <th>count</th>\n",
              "    </tr>\n",
              "    <tr>\n",
              "      <th>call_count</th>\n",
              "      <th></th>\n",
              "    </tr>\n",
              "  </thead>\n",
              "  <tbody>\n",
              "    <tr>\n",
              "      <th>1</th>\n",
              "      <td>6332</td>\n",
              "    </tr>\n",
              "    <tr>\n",
              "      <th>2</th>\n",
              "      <td>2561</td>\n",
              "    </tr>\n",
              "    <tr>\n",
              "      <th>3</th>\n",
              "      <td>473</td>\n",
              "    </tr>\n",
              "    <tr>\n",
              "      <th>6</th>\n",
              "      <td>189</td>\n",
              "    </tr>\n",
              "    <tr>\n",
              "      <th>4</th>\n",
              "      <td>37</td>\n",
              "    </tr>\n",
              "    <tr>\n",
              "      <th>5</th>\n",
              "      <td>9</td>\n",
              "    </tr>\n",
              "  </tbody>\n",
              "</table>\n",
              "</div><br><label><b>dtype:</b> int64</label>"
            ]
          },
          "metadata": {},
          "execution_count": 8
        }
      ]
    },
    {
      "cell_type": "code",
      "source": [],
      "metadata": {
        "id": "A4e4DJ96y2Md"
      },
      "execution_count": null,
      "outputs": []
    }
  ],
  "metadata": {
    "accelerator": "GPU",
    "colab": {
      "gpuType": "T4",
      "provenance": []
    },
    "kernelspec": {
      "display_name": "Python 3",
      "name": "python3"
    },
    "language_info": {
      "name": "python"
    }
  },
  "nbformat": 4,
  "nbformat_minor": 0
}