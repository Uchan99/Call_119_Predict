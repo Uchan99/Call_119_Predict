{
  "nbformat": 4,
  "nbformat_minor": 0,
  "metadata": {
    "colab": {
      "provenance": []
    },
    "kernelspec": {
      "name": "python3",
      "display_name": "Python 3"
    },
    "language_info": {
      "name": "python"
    }
  },
  "cells": [
    {
      "cell_type": "code",
      "execution_count": null,
      "metadata": {
        "colab": {
          "base_uri": "https://localhost:8080/"
        },
        "id": "tH_6-bfQbdan",
        "outputId": "c12314cd-3957-4544-dc07-f3859034c1a0"
      },
      "outputs": [
        {
          "output_type": "stream",
          "name": "stdout",
          "text": [
            "✅ Voting RMSE: 1.404\n",
            "✅ Stacking RMSE: 1.400\n",
            "선택된 모델: Stacking\n"
          ]
        }
      ],
      "source": [
        "# !pip install -U scikit-learn==1.3.2 xgboost==1.7.6 lightgbm==3.3.5\n",
        "\n",
        "import pandas as pd\n",
        "import numpy as np\n",
        "from sklearn.model_selection import train_test_split\n",
        "from sklearn.preprocessing import LabelEncoder\n",
        "from sklearn.metrics import mean_squared_error\n",
        "from xgboost import XGBRegressor\n",
        "from lightgbm import LGBMRegressor\n",
        "from sklearn.ensemble import RandomForestRegressor, VotingRegressor, StackingRegressor\n",
        "from sklearn.linear_model import LinearRegression\n",
        "from google.colab import drive\n",
        "\n",
        "# 1. 데이터 로드 및 전처리 (기존 코드 그대로)\n",
        "df = pd.read_csv('/content/2020_2023_최종데이터.csv')\n",
        "if 'tm_dt' in df.columns: df.drop(columns=['tm_dt'], inplace=True)\n",
        "df['log_call_count'] = np.log1p(df['call_count'])\n",
        "df['year']    = df['tm'] // 10000\n",
        "df['month']   = (df['tm'] % 10000) // 100\n",
        "df['day']     = df['tm'] % 100\n",
        "df['weekday'] = pd.to_datetime(df['tm'], format='%Y%m%d').dt.weekday\n",
        "df['is_weekend']        = df['weekday'].isin([5,6]).astype(int)\n",
        "df['is_before_holiday'] = df['공휴일'].shift(-1, fill_value=0)\n",
        "df['is_after_holiday']  = df['공휴일'].shift(1, fill_value=0)\n",
        "\n",
        "encoder = LabelEncoder()\n",
        "df['address_city'] = encoder.fit_transform(df['address_city'])\n",
        "df['address_gu_mean_target']   = df.groupby('address_gu')['call_count'].transform('mean')\n",
        "df['sub_address_mean_target']  = df.groupby('sub_address')['call_count'].transform('mean')\n",
        "\n",
        "drop_cols = ['tm','call_count','log_call_count','address_gu','sub_address']\n",
        "X = df.drop(columns=drop_cols).astype('float32')\n",
        "y = df['log_call_count'].astype('float32')\n",
        "X_train, X_val, y_train, y_val = train_test_split(X, y, test_size=0.2, random_state=42)\n",
        "\n",
        "# 2. 기본 개별 모델 정의\n",
        "xgb = XGBRegressor(\n",
        "    n_estimators=200,\n",
        "    max_depth=6,\n",
        "    learning_rate=0.05,\n",
        "    subsample=0.8,\n",
        "    colsample_bytree=0.8,\n",
        "    tree_method='hist',\n",
        "    random_state=42\n",
        ")\n",
        "lgbm = LGBMRegressor(\n",
        "    n_estimators=200,\n",
        "    max_depth=8,\n",
        "    learning_rate=0.05,\n",
        "    subsample=0.8,\n",
        "    colsample_bytree=0.8,\n",
        "    random_state=42\n",
        ")\n",
        "rf = RandomForestRegressor(\n",
        "    n_estimators=200,\n",
        "    max_depth=10,\n",
        "    random_state=42,\n",
        "    n_jobs=-1\n",
        ")\n",
        "\n",
        "# 3-1. Voting 앙상블 (단순 평균)\n",
        "voting = VotingRegressor(\n",
        "    estimators=[('xgb', xgb), ('lgbm', lgbm), ('rf', rf)],\n",
        "    n_jobs=-1\n",
        ")\n",
        "voting.fit(X_train, y_train)\n",
        "pred_v = voting.predict(X_val)\n",
        "rmse_v = np.sqrt(mean_squared_error(np.expm1(y_val), np.expm1(pred_v)))\n",
        "print(f\"✅ Voting RMSE: {rmse_v:.3f}\")\n",
        "\n",
        "# 3-2. Stacking 앙상블\n",
        "stack = StackingRegressor(\n",
        "    estimators=[('xgb', xgb), ('lgbm', lgbm), ('rf', rf)],\n",
        "    final_estimator=LinearRegression(),\n",
        "    passthrough=True,\n",
        "    n_jobs=-1\n",
        ")\n",
        "stack.fit(X_train, y_train)\n",
        "pred_s = stack.predict(X_val)\n",
        "rmse_s = np.sqrt(mean_squared_error(np.expm1(y_val), np.expm1(pred_s)))\n",
        "print(f\"✅ Stacking RMSE: {rmse_s:.3f}\")\n",
        "\n",
        "# 4. 가장 좋은 앙상블 모델 선택 및 저장\n",
        "best_model = voting if rmse_v < rmse_s else stack\n",
        "print(f\"선택된 모델: {'Voting' if best_model is voting else 'Stacking'}\")\n",
        "\n",
        "# 5. 이후 검증 데이터(valid_df)에 대해 동일하게 예측·저장\n",
        "# (기존 valid_df 전처리 코드 재사용)\n",
        "# ...\n",
        "# preds_log = best_model.predict(X_valid)\n",
        "# preds = np.expm1(preds_log).round().astype(int)\n",
        "# valid_df['call_count'] = preds\n",
        "# valid_df.to_csv( … )\n",
        "\n"
      ]
    },
    {
      "cell_type": "code",
      "source": [
        "# 5. 검증 데이터 로드 및 전처리\n",
        "valid_df = pd.read_csv('/content/2024_최종데이터.csv')\n",
        "# tm_dt 제거\n",
        "if 'tm_dt' in valid_df.columns:\n",
        "    valid_df.drop(columns=['tm_dt'], inplace=True)\n",
        "\n",
        "# 날짜 파생 변수\n",
        "valid_df['year']    = valid_df['tm'] // 10000\n",
        "valid_df['month']   = (valid_df['tm'] % 10000) // 100\n",
        "valid_df['day']     = valid_df['tm'] % 100\n",
        "valid_df['weekday'] = pd.to_datetime(valid_df['tm'], format='%Y%m%d').dt.weekday\n",
        "valid_df['is_weekend']        = valid_df['weekday'].isin([5,6]).astype(int)\n",
        "valid_df['is_before_holiday'] = valid_df['공휴일'].shift(-1, fill_value=0)\n",
        "valid_df['is_after_holiday']  = valid_df['공휴일'].shift(1, fill_value=0)\n",
        "\n",
        "# address_city 인코딩\n",
        "# 기존 encoder 클래스에 없는 값은 'Unknown' 처리 후 인코딩\n",
        "valid_df['address_city'] = valid_df['address_city'].astype(str)\n",
        "valid_df.loc[~valid_df['address_city'].isin(encoder.classes_), 'address_city'] = 'Unknown'\n",
        "if 'Unknown' not in encoder.classes_:\n",
        "    encoder.classes_ = np.append(encoder.classes_, 'Unknown')\n",
        "valid_df['address_city'] = encoder.transform(valid_df['address_city'])\n",
        "\n",
        "# 평균 타겟 인코딩 매핑\n",
        "address_gu_map   = df.groupby('address_gu')['call_count'].mean()\n",
        "sub_address_map  = df.groupby('sub_address')['call_count'].mean()\n",
        "\n",
        "valid_df['address_gu_mean_target']  = valid_df['address_gu'].map(address_gu_map)\\\n",
        "    .fillna(address_gu_map.mean())\n",
        "valid_df['sub_address_mean_target'] = valid_df['sub_address'].map(sub_address_map)\\\n",
        "    .fillna(sub_address_map.mean())\n",
        "\n",
        "# 불필요 컬럼 제거\n",
        "valid_df.drop(columns=['address_gu', 'sub_address'], errors='ignore', inplace=True)\n",
        "\n",
        "# 입력 피처 구성\n",
        "X_valid = valid_df.drop(columns=['tm', 'call_count'], errors='ignore').astype('float32')\n",
        "\n",
        "# 학습 시 사용한 X 컬럼 순서에 맞추기\n",
        "for col in X.columns:\n",
        "    if col not in X_valid.columns:\n",
        "        X_valid[col] = 0.0\n",
        "X_valid = X_valid[X.columns]\n",
        "\n",
        "# 6. 예측 수행\n",
        "preds_log = best_model.predict(X_valid)\n",
        "preds = np.expm1(preds_log).round().astype(int)\n",
        "valid_df['call_count'] = preds\n",
        "\n",
        "# 7. test_call119에 예측값 반영 및 파일 저장\n",
        "result_df = pd.read_csv('/content/test_call119.csv', encoding='euc-kr')\n",
        "result_df['call_count'] = valid_df['call_count'].values\n",
        "\n",
        "# 결과 파일명은 원하는 대로 변경하세요\n",
        "result_df.to_csv('/content/250028.csv', index=False, encoding='euc-kr')\n",
        "print(\"✅ 최종 submission 파일 저장 완료: 250028.csv\")\n"
      ],
      "metadata": {
        "colab": {
          "base_uri": "https://localhost:8080/"
        },
        "id": "zFYVWtm3dean",
        "outputId": "cf1a0b1d-8751-4c22-d93a-2aff5e2dd5cf"
      },
      "execution_count": null,
      "outputs": [
        {
          "output_type": "stream",
          "name": "stdout",
          "text": [
            "✅ 최종 submission 파일 저장 완료: 250028.csv\n"
          ]
        }
      ]
    },
    {
      "cell_type": "code",
      "source": [],
      "metadata": {
        "id": "6RepxsdVfZkZ"
      },
      "execution_count": null,
      "outputs": []
    }
  ]
}